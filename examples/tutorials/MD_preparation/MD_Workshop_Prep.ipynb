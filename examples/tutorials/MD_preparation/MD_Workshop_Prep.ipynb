{
 "cells": [
  {
   "cell_type": "code",
   "execution_count": 1,
   "id": "4bbe57f6-fcc7-433c-922e-aa7596ce0413",
   "metadata": {},
   "outputs": [
    {
     "data": {
      "application/vnd.jupyter.widget-view+json": {
       "model_id": "299d2a1c3e8840b4bf8fee7866a7f685",
       "version_major": 2,
       "version_minor": 0
      },
      "text/plain": []
     },
     "metadata": {},
     "output_type": "display_data"
    }
   ],
   "source": [
    "import cctbx\n",
    "import iotbx.pdb\n",
    "import numpy as np\n",
    "import itertools\n",
    "import nglview as ngl\n",
    "import parmed as pmd\n",
    "import subprocess"
   ]
  },
  {
   "cell_type": "markdown",
   "id": "1aa188a2-24de-434b-a040-35d630949f91",
   "metadata": {},
   "source": [
    "# The protein: *staphylococcal nuclease*\n",
    "\n",
    "The protein we're going to be working with is *staphylococcal nuclease*, a protein that digests single stranded nucleic acids. The structure for *staph. nuclease* were going to use is PDB structure `4WOR`.\n",
    "\n",
    "This structure has a calcium ion and a ligand (thymidine-3'-5'-diphosphate or pdTp) bound to the active site. You can explore the structure in the window below. The secondary structure of the protein is shown in the ribbon diagram, the full atomic structure is shown in transparent ball-and-stick representation. The pdTp and calcium are shown in ball and stick. You can zoom in and out, and move the structure around by pressing `ctrl`."
   ]
  },
  {
   "cell_type": "code",
   "execution_count": 2,
   "id": "69985cf5-665e-4459-9b1b-a6ae4530677d",
   "metadata": {},
   "outputs": [
    {
     "data": {
      "application/vnd.jupyter.widget-view+json": {
       "model_id": "6281782584c24883a6aa688af264d689",
       "version_major": 2,
       "version_minor": 0
      },
      "text/plain": [
       "NGLWidget()"
      ]
     },
     "metadata": {},
     "output_type": "display_data"
    }
   ],
   "source": [
    "view = ngl.show_structure_file(\"4wor.pdb\")\n",
    "view.clear_representations()\n",
    "view.add_cartoon(\"protein\")\n",
    "view.add_ball_and_stick(\"not protein and not water\")\n",
    "view.add_licorice(\"protein\", opacity=0.3)\n",
    "view"
   ]
  },
  {
   "cell_type": "markdown",
   "id": "ce0ea0c5-9c89-4d3c-92d5-fd38401cfc69",
   "metadata": {},
   "source": [
    "That is a representation of the **coordinates** of all the atoms, contained in the `.pdb` file, but in order to simulate the protein using Molecular Dynamics (MD) we're going to need to give those atoms properties, like mass, charge, and van der Waals radii, and bonded properties like bond stiffness and dihedral angle constraints, etc. \n",
    "\n",
    "These properties are determined by the \"forcefield\", which is a name given the full set of parameters describing the preperties of the atoms.\n",
    "\n",
    "The force field we're going to use for the protein is the `AMBER 99SB` force field. This force field also comes bundled with the `tip3p` parameter set for the waters and parameters for ions, like the calcium in the active site. \n",
    "\n",
    "We are going to have to parameterize the pdTp molecule separately.\n",
    "\n",
    "Let's split out the pdTp atoms, so that we can parametrize them separately."
   ]
  },
  {
   "cell_type": "code",
   "execution_count": 71,
   "id": "2f8f9b37-f241-46ce-9199-05a1ca60a00c",
   "metadata": {},
   "outputs": [],
   "source": [
    "with open(\"4wor.pdb\", 'r') as input_file:\n",
    "    with open(\"protein_calcium.pdb\", 'w') as output_file_prot:\n",
    "        with open(\"pdTp.pdb\", 'w') as output_file_pdTp:\n",
    "            lines = input_file.readlines()                \n",
    "            lig = False\n",
    "            for line in lines:\n",
    "                if line[:6] == \"HETATM\" and \"THP\" in line:\n",
    "                    output_file_pdTp.write(line)\n",
    "                else:\n",
    "                    if not \"HOH\" in line:\n",
    "                        output_file_prot.write(line)"
   ]
  },
  {
   "cell_type": "markdown",
   "id": "e30e9bf6-b738-43de-9b12-511e3d202784",
   "metadata": {
    "tags": []
   },
   "source": [
    "# Parametrizing the ligand"
   ]
  },
  {
   "cell_type": "markdown",
   "id": "5931a6c9-ca75-466d-bc1d-69dd9d1fcc3c",
   "metadata": {},
   "source": [
    "The ligand is a molecule of **thymidine-3',5'-diphosphate**, also known as **\"pdTp\"**, which acts as an inhibitor to the protein's normal substrate, which is single stranded DNA/RNA."
   ]
  },
  {
   "cell_type": "code",
   "execution_count": 4,
   "id": "89189ec9-9c2b-4aa9-9d65-ff8179f1b611",
   "metadata": {},
   "outputs": [
    {
     "data": {
      "application/vnd.jupyter.widget-view+json": {
       "model_id": "17c0c011b1064e0499a2460af74a29e2",
       "version_major": 2,
       "version_minor": 0
      },
      "text/plain": [
       "NGLWidget()"
      ]
     },
     "metadata": {},
     "output_type": "display_data"
    }
   ],
   "source": [
    "view = ngl.show_structure_file(\"pdTp.pdb\")\n",
    "view"
   ]
  },
  {
   "cell_type": "markdown",
   "id": "8907afd1-6f04-4411-b66e-6e6a2614afa6",
   "metadata": {},
   "source": [
    "A few things make parametrization difficult:\n",
    "\n",
    "- Chemistry is hard. It's like, a whole field\n",
    "    - For that reason, things like pKa and protonation states and molecular geometry are extremely hard to predict, just given a molecule, and starting from scratch\n",
    "- Quantum mechanics is also hard, which you knew already, but we need to do QM to get things *truly* right\n",
    "    - To get the partial charges of the atoms, we need to know how the electrons are distributed around the molecule, which comes down (ultimately) to quatnum mechanics. \n",
    "    \n",
    "Thankfully, smart people (countless nameless graduate students over decades) have found work arounds.\n",
    "\n",
    "There are a variety of ways to parametrize a small molecule, but this task is so important and so common that there exist webservers that will do it for you! \n",
    "\n",
    "I used the webserver [SwissParam](swissparam.ch) to generate all the files present in the `pdTp` directory that accompanies this notebook (after first adding hydrogens with `UCSF Chimera`'s `Structure Editing > AddH` tool."
   ]
  },
  {
   "cell_type": "markdown",
   "id": "4ddbe2e5-1dca-4fe0-8535-2e5c1afd102b",
   "metadata": {},
   "source": [
    "# Parametrizing the full system"
   ]
  },
  {
   "cell_type": "markdown",
   "id": "0addecc1-739f-4b78-97bb-d9b653bb4cc3",
   "metadata": {
    "tags": []
   },
   "source": [
    "We're going to process the protein and calcium atoms with pdb4amber, which adds on atoms that might be missing from residues, and caps off the N- and C-termini."
   ]
  },
  {
   "cell_type": "code",
   "execution_count": 5,
   "id": "364f86de-cb35-4273-bda2-1be12f8a6ff0",
   "metadata": {},
   "outputs": [
    {
     "data": {
      "text/plain": [
       "CompletedProcess(args=['mkdir pdb4amber_files; mv protein_calcium_amber_* pdb4amber_files'], returncode=0)"
      ]
     },
     "execution_count": 5,
     "metadata": {},
     "output_type": "execute_result"
    }
   ],
   "source": [
    "subprocess.run([\"pdb4amber -i protein_calcium.pdb -o protein_calcium_amber.pdb --add-missing-atoms\"], shell=True)\n",
    "subprocess.run([\"mkdir pdb4amber_files; mv protein_calcium_amber_* pdb4amber_files\"], shell=True)"
   ]
  },
  {
   "cell_type": "markdown",
   "id": "e890acbe-7043-41dc-8cd2-0e1c0b0c85d2",
   "metadata": {},
   "source": [
    "Then we're going to use `GROMACS`s `pdb2gmx` to generate a topology file for the protein and calcium file, using `AMBER14SB` forcefield, and making sure that the parameters for the water come along with. The flag `ignh` makes sure that gromacs ignores any hygrogens that might be in the file, and places in hydrogens of its own (just to make sure `GROMACS` stays happy)."
   ]
  },
  {
   "cell_type": "code",
   "execution_count": 6,
   "id": "6b77cd26-2251-4790-8481-32dbd8fb298c",
   "metadata": {},
   "outputs": [
    {
     "data": {
      "text/plain": [
       "CompletedProcess(args=['gmx pdb2gmx -f protein_calcium_amber.pdb -o protein_calcium_gmx.pdb -p protein.top --water spce --ff amber99sb-ildn -ignh'], returncode=0)"
      ]
     },
     "execution_count": 6,
     "metadata": {},
     "output_type": "execute_result"
    }
   ],
   "source": [
    "subprocess.run([\"gmx pdb2gmx -f protein_calcium_amber.pdb -o protein_calcium_gmx.pdb -p protein.top --water spce --ff amber99sb-ildn -ignh\"], shell=True)"
   ]
  },
  {
   "cell_type": "markdown",
   "id": "06a24d51-802b-46b8-a814-064748a53761",
   "metadata": {},
   "source": [
    "Now, we need to concatenate the protein and calcium structure with the structure of the ligand.\n",
    "\n",
    "We make sure that the structure file for the full assymetric unit has all the header information from `4wor.pdb` (so that `cctbx` can build the unit cell and supercell correctly).\n",
    "\n",
    "You'll notice there's a lot of confusing junk in the code below. This junk is actually a cleverly disguised call for help: please, if you know how to code and want to do structural biology, please write good code. Make sure your files are outputting things in the standard way. Every program used for computational chemistry and structural biology outputs files in a different way, even though the format is meant to provide standardization. It's madenning.\n",
    "\n",
    "Anyway, read the comments if you really want to know what the code is doing."
   ]
  },
  {
   "cell_type": "code",
   "execution_count": 7,
   "id": "606f6332-a257-4681-b47b-4b71a7eb00f4",
   "metadata": {},
   "outputs": [],
   "source": [
    "with open(\"protein_calcium_gmx.pdb\", 'r') as input_prot:\n",
    "    with open(\"4wor.pdb\", 'r') as input_header:\n",
    "        with open(\"pdTp/pdTp.pdb\", 'r') as input_pdTp:\n",
    "            with open(\"asymmetric_unit.pdb\", 'w') as output_file:\n",
    "                # store the header lines containing the \"CRYST1\" and \"SCALE\" records\n",
    "                # needed for cctbx laters\n",
    "                header_lines = [line for line in input_header.readlines() if line[:5] in [\"CRYST\", \"SCALE\"]]\n",
    "                # store the lines for the protein, leaving out the \"TITLE\" and \"MODEL\"\n",
    "                # records at the start and the \"TER\" and \"ENDMDL\" records at the end\n",
    "                prot_lines = input_prot.readlines()[2:-2]\n",
    "                # storing the atoms from the pdTp file\n",
    "                pdTp_lines = [line for line in input_pdTp.readlines() if \"ATOM\" in line]\n",
    "                # write the header\n",
    "                for line in header_lines:\n",
    "                    output_file.write(line)\n",
    "                # write the protein+calcium atoms\n",
    "                for line in prot_lines:\n",
    "                    # making sure no waters present\n",
    "                    if not \"HOH\" in line:\n",
    "                        # for the calcium...\n",
    "                        if \"CA   CA\" in line:\n",
    "                            # put a \"TER\" record before\n",
    "                            output_file.write(\"TER\\n\")\n",
    "                            line = line[:21] + \"A\" + line[22:]\n",
    "                            # to continue the atom indices from here...\n",
    "                            index = int(line[7:11]) + 1\n",
    "                            output_file.write(line)\n",
    "                        else:\n",
    "                            if line[:6] in [\"ATOM  \", \"HETATM\"]:\n",
    "                                # make every atom chain A\n",
    "                                line = line[:21] + \"A\" + line[22:]\n",
    "                                # add element info for hydgens\n",
    "                                if \"H\" in line[12:16]:\n",
    "                                    line = line[:77] + \"H \\n\"\n",
    "                            output_file.write(line)\n",
    "                # write the pdTp atoms\n",
    "                for line in pdTp_lines:\n",
    "                    # get the element\n",
    "                    if \"H\" in line[12:16]:\n",
    "                        element = \"H\"\n",
    "                    if \"N\" in line[12:16]:\n",
    "                        element = \"N\"\n",
    "                    if \"C\" in line[12:16]:\n",
    "                        element = \"C\"\n",
    "                    if \"O\" in line[12:16]:\n",
    "                        element = \"O\"\n",
    "                    if \"P\" in line[12:16]:\n",
    "                        element = \"P\"\n",
    "                    # make the resid 301, the chain A, and write the element on the end\n",
    "                    line = line[:7] + str(index) + line[11:21] + \"A 301\" + line[26:72] + \"     {}\".format(element) + \" \\n\"\n",
    "                    index += 1\n",
    "                    output_file.write(line)\n",
    "                output_file.write(\"END\\n\")"
   ]
  },
  {
   "cell_type": "markdown",
   "id": "052c804a-c877-43d1-b5a4-db15757cbd8d",
   "metadata": {},
   "source": [
    "Now, the topology file for the supercell will be the same as the topology file for the asymmetric unit, just with 31 extra copies of the `[moleculetype]` records appended, because there are 31 extra copies of the asymmetric unit in the supercell. \n",
    "\n",
    "So, to convert the `protein.top` file to the `supercell.top` file, we just need to tack those lines on to the end, in order."
   ]
  },
  {
   "cell_type": "code",
   "execution_count": 75,
   "id": "7165763d-4ce3-4b9a-9015-8e4072892c27",
   "metadata": {},
   "outputs": [],
   "source": [
    "with open(\"protein.top\", 'r') as f:\n",
    "    with open(\"supercell.top\", 'w') as g:\n",
    "        lines = f.readlines()\n",
    "        # there's only protein and calcium in the moleculetype\n",
    "        # record for the protein.top file, so the final two\n",
    "        # lines are protein and calcium\n",
    "        final_lines = [line for line in lines][-2:]\n",
    "        for line in lines:\n",
    "            # Making sure the reference to the pdTp parms goes\n",
    "            # in the right place\n",
    "            if \"forcefield.itp\" in line:\n",
    "                g.write(line)\n",
    "                g.write(\"#include \\\"pdTp/pdTp.itp\\\" \\n\")\n",
    "            else:\n",
    "                g.write(line)\n",
    "        # add LIG moleculetype to the asymetric unit\n",
    "        g.write(\"LIG                 1\\n\")\n",
    "        # then add 31 copies\n",
    "        for _ in range(31):\n",
    "            for line in final_lines:\n",
    "                g.write(line)\n",
    "            g.write(\"LIG                 1\\n\")"
   ]
  },
  {
   "cell_type": "markdown",
   "id": "96bbf52a-4873-4911-8076-6400e7cb83a6",
   "metadata": {},
   "source": [
    "# Constructing a Unit Cell"
   ]
  },
  {
   "cell_type": "markdown",
   "id": "687652b2-8684-44fc-8a67-44cf0a09f494",
   "metadata": {},
   "source": [
    "Then we construct a `cctbx` hierarchy object from the asymmetric unit `.pdb`, and use the `crystal_symmetry` information in the `xray_structure` for `4WOR` to propagate the asymmetric unit to a unit cell."
   ]
  },
  {
   "cell_type": "code",
   "execution_count": 9,
   "id": "ec6399a6-9f76-488a-91ae-e412e4ed8a4d",
   "metadata": {
    "tags": []
   },
   "outputs": [],
   "source": [
    "input_pdb = iotbx.pdb.input(file_name=\"asymmetric_unit.pdb\")\n",
    "input_hierarchy = input_pdb.construct_hierarchy(sort_atoms=False)\n",
    "xray_structure = iotbx.pdb.input(file_name=\"4wor.pdb\").xray_structure_simple()\n",
    "unit_cell = input_hierarchy.expand_to_p1(xray_structure.crystal_symmetry())"
   ]
  },
  {
   "cell_type": "markdown",
   "id": "ad1f2768-1b01-4868-8303-4c2cdb57cbc9",
   "metadata": {
    "tags": []
   },
   "source": [
    "Let's take a look at it!\n",
    "\n",
    "*Explore it for yourself, you can zoom in, clock on parts of the structure to focus there, click and drag to rotate the structure, `ctrl`+click and drag to translate the structure, etc. Try it out!*"
   ]
  },
  {
   "cell_type": "code",
   "execution_count": 10,
   "id": "8ba33011-b3e6-4779-aa39-5ee82055cab7",
   "metadata": {},
   "outputs": [
    {
     "data": {
      "application/vnd.jupyter.widget-view+json": {
       "model_id": "d07b3bf054594177b14c19d7b95ab2f6",
       "version_major": 2,
       "version_minor": 0
      },
      "text/plain": [
       "NGLWidget()"
      ]
     },
     "metadata": {},
     "output_type": "display_data"
    }
   ],
   "source": [
    "view = ngl.show_iotbx(unit_cell)\n",
    "view.clear_representations()\n",
    "view.add_ball_and_stick(\"not protein\")\n",
    "view.add_cartoon(\"protein\")\n",
    "view.camera=\"orthographic\"\n",
    "view"
   ]
  },
  {
   "cell_type": "markdown",
   "id": "6a1c42c2-1c4f-4baf-88f5-20e3e87d15d1",
   "metadata": {},
   "source": [
    "We're going to need to use the unit cell length (A, B, C) and angle (alpha, beta, gamma) information to tile the unit cells to create a supercell"
   ]
  },
  {
   "cell_type": "code",
   "execution_count": 11,
   "id": "474593a3-fdee-401d-963d-30aab1440428",
   "metadata": {},
   "outputs": [
    {
     "name": "stdout",
     "output_type": "stream",
     "text": [
      "    A: 48.499,  B: 48.499,   C: 63.43, \n",
      "alpha: 90.0, beta: 90.0, gamma: 90.0\n",
      "space group: P 41 (No. 76)\n"
     ]
    }
   ],
   "source": [
    "A, B, C, alpha, gamma, beta = xray_structure.crystal_symmetry().unit_cell().parameters()\n",
    "space_group = xray_structure.crystal_symmetry().space_group_info().symbol_and_number()\n",
    "print(f\"    A: {A},  B: {B},   C: {C}, \\nalpha: {alpha}, beta: {beta}, gamma: {gamma}\\nspace group: {space_group}\")"
   ]
  },
  {
   "cell_type": "markdown",
   "id": "441aa7db-a4c9-421b-9ce6-50e1b4492b1b",
   "metadata": {},
   "source": [
    "To make sure the supercell structure files have the right information, we'll need to create another `xray_structure.crystal_symmetry` object that has the correct box length and angle information. \n",
    "\n",
    "In our case, the box will be twice the length of the unit cell in each direction, and we'll need to switch the space group to P1"
   ]
  },
  {
   "cell_type": "code",
   "execution_count": 12,
   "id": "3f19c4d9-d766-45a2-a800-067d37650c5b",
   "metadata": {},
   "outputs": [
    {
     "data": {
      "text/plain": [
       "crystal.symmetry(\n",
       "    unit_cell=(96.998, 96.998, 126.86, 90, 90, 90),\n",
       "    space_group_symbol=\"P 1\"\n",
       "  )"
      ]
     },
     "execution_count": 12,
     "metadata": {},
     "output_type": "execute_result"
    }
   ],
   "source": [
    "supercell_uc = cctbx.uctbx.unit_cell(parameters=(2*A,2*B,2*C,90.0,90.0,90.0))\n",
    "supercell_symmetry = cctbx.crystal.symmetry(unit_cell=supercell_uc, space_group_symbol=\"P1\")\n",
    "supercell_symmetry"
   ]
  },
  {
   "cell_type": "markdown",
   "id": "4cb08e05-7e57-4e11-8d62-ac68febac713",
   "metadata": {},
   "source": [
    "# Constructing a supercell\n",
    "\n",
    "So, we have a symmetry object for our future supercell structure, but first we have to... *create the sturcture file*.\n",
    "\n",
    "Below is a function which constructs supercells given input of the unit cell and the number of copies of the unit cell along each direction we want to append to create the supercell:\n",
    "\n",
    "First we will need to construct the unit cell vectors. Below is an example of a general unit cell with side lengths A, B and B, and angles $\\alpha$, $\\beta$, and $\\gamma$. \n",
    "\n",
    "In our case, $\\alpha=\\beta=\\gamma=90^{\\text{o}}$, so the unit cell vectors are simply the box lengths in the x-, y- and z-directions, but the following code will work for any unit cells, with any side lengths and angles.\n",
    "\n",
    "![unit_cell_angles](./images/unit_cell_angles.png)"
   ]
  },
  {
   "cell_type": "code",
   "execution_count": 13,
   "id": "710decb9-208f-47c6-a3cc-ec9539b1bb5a",
   "metadata": {},
   "outputs": [],
   "source": [
    "def construct_supercell(UC, xrs, n_cells):\n",
    "    '''Constructs a supercell from a unit cell given a number of cells in each dimension\n",
    "    \n",
    "    Parameters\n",
    "    ----------\n",
    "    UC : iotbx_pdb_hierarchy_ext.root)\n",
    "        cctbx hierarchy object for the unit cell\n",
    "    \n",
    "    xrs : cctbx.xray.structure.structure\n",
    "        cctbx xray structure object for the unit cell\n",
    "    \n",
    "    n_cells : int or tuple\n",
    "        If given an int, N -> NxNxN supercell\n",
    "        If given a tuple, (X,Y,Z) -> XxYxZ supercell\n",
    "    \n",
    "    Returns\n",
    "    -------\n",
    "    supercell : iotbx_pdb_hierarchy_ext.root\n",
    "        cctbx hierarchy object for the supercell\n",
    "    '''\n",
    "    \n",
    "    #calculate the unit cell vectors from the xray_structure\n",
    "    A, B, C, alpha, beta, gamma = xrs.crystal_symmetry().unit_cell().parameters()\n",
    "    cg = np.cos(np.radians(gamma))\n",
    "    sg = np.sin(np.radians(gamma))\n",
    "    cb = np.cos(np.radians(beta))\n",
    "    ca = np.cos(np.radians(alpha))\n",
    "    c1 = (ca - cb * cg) / sg\n",
    "    avec = [A, 0.0, 0.0]\n",
    "    bvec = [B*cg, B*sg, 0.0]\n",
    "    cvec = [C*cb, C*c1, C*np.sqrt(1 - cb*cb - c1*c1)]\n",
    "    for vec in [avec, bvec, cvec]:\n",
    "        for i in range(3):\n",
    "            if np.isclose(vec[i], 0.0, atol=0.0001):\n",
    "                vec[i] = 0.0\n",
    "    avec = np.array(avec)\n",
    "    bvec = np.array(bvec)\n",
    "    cvec = np.array(cvec)\n",
    "    \n",
    "    # start with a copy of the unitcell\n",
    "    supercell = UC.deep_copy()\n",
    "    \n",
    "    # create an index tuple for each unit cell\n",
    "    # e.g. (1,1,0) for the unitcell tiled forward\n",
    "    #    in the x- and y-directions but not in the\n",
    "    #    z-direction\n",
    "    if not isinstance(n_cells, tuple):\n",
    "        cells = [el for el in itertools.product(range(n_cells),repeat=3)]\n",
    "    else:\n",
    "        cells = [el for el in itertools.product(range(n_cells[0]), range(n_cells[1]), range(n_cells[2]))]\n",
    "    \n",
    "    for uc_idx in cells:\n",
    "        \n",
    "        # leave the original unit cell alone\n",
    "        if uc_idx != (0,0,0):\n",
    "            \n",
    "            # create a unit cell copy\n",
    "            new_UC = UC.deep_copy()\n",
    "            \n",
    "            # add a unit cell length along the appropriate axes to each atom\n",
    "            for atom in new_UC.atoms():\n",
    "                disp = uc_idx[0]*avec + uc_idx[1]*bvec + uc_idx[2]*cvec\n",
    "                atom.set_xyz(tuple(np.array(atom.xyz)+disp))\n",
    "            \n",
    "            # add the chains from the shifted unit cell to the supercell\n",
    "            for model in new_UC.models():\n",
    "                supercell.models()[0].transfer_chains_from_other(model)\n",
    "                    \n",
    "    return supercell"
   ]
  },
  {
   "cell_type": "code",
   "execution_count": 14,
   "id": "398acdf6-58f9-4162-9530-4ba7da69fcb3",
   "metadata": {},
   "outputs": [],
   "source": [
    "supercell = construct_supercell(unit_cell, xray_structure, 2)"
   ]
  },
  {
   "cell_type": "markdown",
   "id": "851cf899-0f3c-4f93-b24c-c3622e9bc03f",
   "metadata": {
    "tags": []
   },
   "source": [
    "Let's see how we did:"
   ]
  },
  {
   "cell_type": "code",
   "execution_count": 15,
   "id": "95516203-0318-47dd-8b5c-58228837bea3",
   "metadata": {},
   "outputs": [
    {
     "data": {
      "application/vnd.jupyter.widget-view+json": {
       "model_id": "8d3eaa9bfaea449e9cb12229e29542ad",
       "version_major": 2,
       "version_minor": 0
      },
      "text/plain": [
       "NGLWidget()"
      ]
     },
     "metadata": {},
     "output_type": "display_data"
    }
   ],
   "source": [
    "view = ngl.show_iotbx(supercell)\n",
    "view.camera=\"orthographic\"\n",
    "view.add_ball_and_stick(\"not protein\")\n",
    "view"
   ]
  },
  {
   "cell_type": "markdown",
   "id": "81ca4373-408f-499e-9391-c0014be8f89b",
   "metadata": {},
   "source": [
    "Looks pretty good to me!\n",
    "\n",
    "Let's write out this file as a `.pdb`."
   ]
  },
  {
   "cell_type": "code",
   "execution_count": 16,
   "id": "64dad463-6776-4640-8cce-154aaadc8305",
   "metadata": {},
   "outputs": [],
   "source": [
    "supercell.write_pdb_file(\"supercell.pdb\", crystal_symmetry=supercell_symmetry)"
   ]
  },
  {
   "cell_type": "markdown",
   "id": "9f453704-a026-4f95-ac1c-1484312b9a7c",
   "metadata": {},
   "source": [
    "`GROMACS` doesn't need chain information, but it will be confused if residues in different proteins have the same resid, so we need to get rid of chainids and reset the resids in order:"
   ]
  },
  {
   "cell_type": "code",
   "execution_count": 17,
   "id": "d9c12842-6d6b-449d-b378-667942db000d",
   "metadata": {},
   "outputs": [],
   "source": [
    "with open(\"supercell.pdb\", 'r') as f:\n",
    "    with open(\"supercell_no_chains_renumbered.pdb\", 'w') as g:\n",
    "        lines = f.readlines()\n",
    "        current_index = 1\n",
    "        # the first out of order resid is the LIG with resid 301\n",
    "        bad_index = 301\n",
    "        for line in lines:\n",
    "            if line[:4] == \"ATOM\":\n",
    "                # Get rid of the chainids\n",
    "                line = line[:20] + \"  \" + line[22:]\n",
    "                # Find the current inex\n",
    "                index = int(line[22:26])\n",
    "                # If we're in the same residue\n",
    "                if index == current_index:\n",
    "                    pass\n",
    "                # If we've arrived at the next residue\n",
    "                else:\n",
    "                    # Check to see if it's the next residue in order\n",
    "                    if index == current_index + 1:\n",
    "                        # Reset the current index\n",
    "                        current_index += 1\n",
    "                        # ... but otherwise do nothing, because it's fine\n",
    "                    else:\n",
    "                        # If it's not the next residue in order\n",
    "                        # check to see if it's the bad index and\n",
    "                        # reset the current\n",
    "                        if not index == bad_index:\n",
    "                            bad_index = int(line[22:26])\n",
    "                            current_index += 1\n",
    "                            line = line[:22] + \"{:>4}\".format(current_index+1) + line[26:]\n",
    "                        else:\n",
    "                            line = line[:22] + \"{:>4}\".format(current_index+1) + line[26:]\n",
    "                \n",
    "                g.write(line)\n",
    "            else:\n",
    "                g.write(line)"
   ]
  },
  {
   "cell_type": "markdown",
   "id": "12c535d7-a4ab-4fcc-bfea-c264de9717c1",
   "metadata": {},
   "source": [
    "# Solvating and adding ions"
   ]
  },
  {
   "cell_type": "markdown",
   "id": "1c5d5751-3a72-44e1-8a61-4820a9fa58ac",
   "metadata": {},
   "source": [
    "Now, we're going to use gromacs tools to solvate and neutralize the system:\n",
    "\n",
    "`gmx solvate` adds waters to the system using pre-prepared small boxes of water that are tiled to cover the simulation box and then waters are culled if they overlap with waters already in the system.\n",
    "\n",
    "The flags are:\n",
    "- `-cp` the protein structure (`.gro`) file\n",
    "- `-cs` the water type to tile the box with\n",
    "- `-p` the topology (`.top`) file"
   ]
  },
  {
   "cell_type": "code",
   "execution_count": 18,
   "id": "53c5fae1-604f-43ae-a09c-89f363b7d03f",
   "metadata": {},
   "outputs": [
    {
     "data": {
      "text/plain": [
       "CompletedProcess(args=['gmx solvate -cp supercell_no_chains_renumbered.pdb -cs spc216.gro -p supercell.top -o supercell_solvated.gro'], returncode=0)"
      ]
     },
     "execution_count": 18,
     "metadata": {},
     "output_type": "execute_result"
    }
   ],
   "source": [
    "solvate_command = \"gmx solvate -cp supercell_no_chains_renumbered.pdb -cs spc216.gro -p supercell.top -o supercell_solvated.gro\"\n",
    "subprocess.run([solvate_command], shell=True)"
   ]
  },
  {
   "cell_type": "code",
   "execution_count": 19,
   "id": "8588a709-7125-4fd5-b4b8-8ebb854aa3c3",
   "metadata": {},
   "outputs": [
    {
     "data": {
      "application/vnd.jupyter.widget-view+json": {
       "model_id": "11af637f213442ccb609fe37835845f1",
       "version_major": 2,
       "version_minor": 0
      },
      "text/plain": [
       "NGLWidget()"
      ]
     },
     "metadata": {},
     "output_type": "display_data"
    }
   ],
   "source": [
    "cell = pmd.load_file(\"supercell_solvated.gro\")\n",
    "view = ngl.show_parmed(cell)\n",
    "view.clear_representations()\n",
    "view.add_cartoon(\"protein\")\n",
    "view.add_ball_and_stick(\"water\", opacity=0.5)\n",
    "view.add_licorice(\"not protein and not water\")\n",
    "view.camera = \"orthographic\"\n",
    "view"
   ]
  },
  {
   "cell_type": "markdown",
   "id": "5f67abe0-7fbc-4508-9308-9266bc053041",
   "metadata": {},
   "source": [
    "Looks good!\n",
    "\n",
    "Notice that the proteins extend out of the box, while the waters are contained within the box.\n",
    "\n",
    "This is a consequence of the **periodic boundary conditions**. The computer treats one edge of the box as equivalent to its opposite edge, and everything that extends beyond the edge of the box is wrapped around to the inside of the other side of the box, like exiting the edge of the screen in PacMan and appearing on the other side.\n",
    "\n",
    "There's only one more step that we need to take care of before we start the energy minimization process: neutralizing the system with ions. \n",
    "\n",
    "We'll do this with `gmx grompp` and `genion`.\n",
    "\n",
    "`grompp` is the `GROMACS` \"pre-processor\", it takes in the structure (`.gro`) and topology (`.top`) files and outputs a `.tpr` file. \n",
    "\n",
    "These files are binary run input files that we'll construct again before we head in to simulation. The reason we need one now is that `GROMACS` needs to analyze the eletrostatics of the system to place ions in an intelligent way! `genion` is going to replace water molecules in the system with ions, but if it places ions too close to charged atoms in the system, the system could be too high energy when we place it in to minimization. \n",
    "\n",
    "The arguments to `grompp` are:\n",
    "\n",
    "- `-f`: \"molecular dynamics parameter\" (`.mdp`) file specifying the type of simulation (in this case, the file is really a dummy file, because we're not really simulating anyting)\n",
    "- `-c`: the structure (`.gro`) file\n",
    "- `-p`: the topology (`.top`) file\n",
    "- `-o`: the name of the binary run input (`.tpr`) file\n",
    "\n",
    "The arguments to `genion` are:\n",
    "- `-s`: the binary run input (`.tpr`) file\n",
    "- `-p`: the topology (`.top`) file\n",
    "- `-o`: the name of the output structure (`.gro`) file\n",
    "- `-neutral` specifying that we want to neutralize the system with ions\n",
    "- `-rmin`: allows us to reset the minimum distance between added groups (it will fail if we don't add this because it thinks the ions are too close together, but as you'll see it's fine). "
   ]
  },
  {
   "cell_type": "code",
   "execution_count": 21,
   "id": "f98582df-b7c7-4b50-8210-cfacfb4399a6",
   "metadata": {},
   "outputs": [
    {
     "data": {
      "text/plain": [
       "CompletedProcess(args=['gmx grompp -f mdp_files/ions.mdp -c supercell_solvated.gro -p supercell.top -o ions.tpr -maxwarn 5'], returncode=0)"
      ]
     },
     "execution_count": 21,
     "metadata": {},
     "output_type": "execute_result"
    }
   ],
   "source": [
    "grompp_command = \"gmx grompp -f mdp_files/ions.mdp -c supercell_solvated.gro -p supercell.top -o ions.tpr -maxwarn 5\"\n",
    "subprocess.run([grompp_command], shell=True)"
   ]
  },
  {
   "cell_type": "code",
   "execution_count": 22,
   "id": "42d0132a-0dce-4ad5-92b4-012a67476151",
   "metadata": {},
   "outputs": [
    {
     "data": {
      "text/plain": [
       "CompletedProcess(args=['echo 19 | gmx genion -s ions.tpr -p supercell.top -o supercell_solvated_neutral.gro -neutral -rmin 0.4'], returncode=0)"
      ]
     },
     "execution_count": 22,
     "metadata": {},
     "output_type": "execute_result"
    }
   ],
   "source": [
    "genion_command = \"echo 19 | gmx genion -s ions.tpr -p supercell.top -o supercell_solvated_neutral.gro -neutral -rmin 0.4\"\n",
    "subprocess.run([genion_command], shell=True)"
   ]
  },
  {
   "cell_type": "markdown",
   "id": "482d66e9-7554-4038-a8e0-c13367d28405",
   "metadata": {},
   "source": [
    "Let's see 'em:"
   ]
  },
  {
   "cell_type": "code",
   "execution_count": 23,
   "id": "ccab647f-4f86-4b08-a679-d3d9b5d8f0fd",
   "metadata": {},
   "outputs": [
    {
     "data": {
      "application/vnd.jupyter.widget-view+json": {
       "model_id": "f700d3ee72304fe9b1b5bb4451816e71",
       "version_major": 2,
       "version_minor": 0
      },
      "text/plain": [
       "NGLWidget()"
      ]
     },
     "metadata": {},
     "output_type": "display_data"
    }
   ],
   "source": [
    "cell = pmd.load_file(\"supercell_solvated_neutral.gro\")\n",
    "view = ngl.show_parmed(cell)\n",
    "view.clear_representations()\n",
    "view.add_cartoon(\"protein\")\n",
    "view.add_ball_and_stick(\"water\", opacity=0.5)\n",
    "view.add_spacefill(\"name CL\")\n",
    "view.add_licorice(\"not protein and not water\")\n",
    "view.camera = \"orthographic\"\n",
    "view"
   ]
  },
  {
   "cell_type": "markdown",
   "id": "012bbe02-193c-4250-8c0c-75143ed3e68f",
   "metadata": {},
   "source": [
    "# Minimization"
   ]
  },
  {
   "cell_type": "markdown",
   "id": "c37b6492-bd5b-41f2-9328-c57cb33d4bc9",
   "metadata": {},
   "source": [
    "The `.mdp` files specify the parameters for simulation. Check them out in the `mdp_files` folder.\n",
    "\n",
    "Here's what ours looks like for minimization:\n",
    "\n",
    "`min.mdp`\n",
    "```; minim.mdp - used as input into grompp to generate em.tpr\n",
    "; Parameters describing what to do, when to stop and what to save\n",
    "integrator  = steep         ; Algorithm (steep = steepest descent minimization)\n",
    "emtol       = 1000.0        ; Stop minimization when the maximum force < 1000.0 kJ/mol/nm\n",
    "emstep      = 0.01          ; Minimization step size\n",
    "nsteps      = 1000          ; Maximum number of (minimization) steps to perform\n",
    "\n",
    "; Parameters describing how to find the neighbors of each atom and how to calculate the interactions\n",
    "nstlist         = 1         ; Frequency to update the neighbor list and long range forces\n",
    "cutoff-scheme   = Verlet    ; Buffered neighbor searching\n",
    "ns_type         = grid      ; Method to determine neighbor list (simple, grid)\n",
    "coulombtype     = PME       ; Treatment of long range electrostatic interactions\n",
    "rcoulomb        = 1.0       ; Short-range electrostatic cut-off\n",
    "rvdw            = 1.0       ; Short-range Van der Waals cut-off\n",
    "pbc             = xyz       ; Periodic Boundary Conditions in all 3 dimensions\n",
    "\n",
    "```\n",
    "\n",
    "The important bits here are the `integrator` and `nsteps` parameters. Our selections say to do 1000 steps of minimizaiton with the steepest descent algorithm.\n",
    "\n",
    "`gmx grompp` takes in the `.mdp` file (`-f`), the starting coordiantes file (`-c`), the topology file (`-p`) and the output file name (`-o`) which will be a (`.tpr`) file with everything necessary to run the simulation.\n",
    "\n",
    "`gmx mdrun` runs the minimization, with the `.tpr` file as input (`-s`) and a `-deffnm` flag setting the filenames for all the output files."
   ]
  },
  {
   "cell_type": "code",
   "execution_count": 24,
   "id": "c7888bed-bfc4-4266-8fb1-c0c0807776d2",
   "metadata": {},
   "outputs": [],
   "source": [
    "min_pre = \"gmx grompp -f mdp_files/min.mdp -c supercell_solvated_neutral.gro -p supercell.top -o min_1.tpr -maxwarn 2\"\n",
    "min_go = \"gmx mdrun -s min_1.tpr -deffnm min_1\"\n",
    "subprocess.run([min_pre], shell=True);\n",
    "subprocess.run([min_go], shell=True);"
   ]
  },
  {
   "cell_type": "code",
   "execution_count": 25,
   "id": "161824e1-1f6b-4f16-af24-f4260b09213c",
   "metadata": {},
   "outputs": [
    {
     "data": {
      "text/plain": [
       "CompletedProcess(args=['mkdir minimization_1; mv min_1.* minimization_1'], returncode=0)"
      ]
     },
     "execution_count": 25,
     "metadata": {},
     "output_type": "execute_result"
    }
   ],
   "source": [
    "# move files out of the current directory to keep things clean\n",
    "clean_up = \"mkdir minimization_1; mv min_1.* minimization_1\"\n",
    "subprocess.run([clean_up], shell=True)"
   ]
  },
  {
   "cell_type": "markdown",
   "id": "50fc6b9a-f72a-402d-91fc-5e43d5db7cd1",
   "metadata": {},
   "source": [
    "Now we use `GROMACS`s `energy` function to get the potential energy for our minimization.\n",
    "\n",
    "The `echo 11` passed to the `gmx energy` call tells `GROMACS` we want to select option 11 for the data output (the Potential). \n",
    "\n",
    "If you were running these commands yourself, you could just run the command from `gmx energy ...` on and you could interactively select the data output yourself to get any info you want."
   ]
  },
  {
   "cell_type": "code",
   "execution_count": 26,
   "id": "09bc34f9-0b67-4f6d-9381-0c56440e71c5",
   "metadata": {},
   "outputs": [
    {
     "data": {
      "text/plain": [
       "CompletedProcess(args=['mv energy_1.xvg minimization_1'], returncode=0)"
      ]
     },
     "execution_count": 26,
     "metadata": {},
     "output_type": "execute_result"
    }
   ],
   "source": [
    "get_energy = \"echo 11 | gmx energy -f minimization_1/min_1.edr -o energy_1.xvg\"\n",
    "subprocess.run([get_energy], shell=True)\n",
    "subprocess.run([\"mv energy_1.xvg minimization_1\"], shell=True)"
   ]
  },
  {
   "cell_type": "markdown",
   "id": "d73f43e1-53f5-453c-80fa-02215a1bec8f",
   "metadata": {},
   "source": [
    "We'll plot the data with matplotlib, `python`'s main plotting software."
   ]
  },
  {
   "cell_type": "code",
   "execution_count": 27,
   "id": "313318eb-9ca5-401b-b956-8bbf100e23f8",
   "metadata": {},
   "outputs": [],
   "source": [
    "import matplotlib.pyplot as plt"
   ]
  },
  {
   "cell_type": "code",
   "execution_count": 28,
   "id": "5efcce54-7014-49a7-a082-b8c9d593b87e",
   "metadata": {},
   "outputs": [],
   "source": [
    "def get_data_from_xvg(filename):\n",
    "    ''' helper function for getting data from .xvg files\n",
    "    '''\n",
    "    with open(filename) as f:\n",
    "        x = []; y = []\n",
    "        for line in f.readlines():\n",
    "            # ignore the header lines with first character @ or #\n",
    "            if line[0] not in [\"#\", \"@\"]:\n",
    "                x.append(float(line.split()[0]))\n",
    "                y.append(float(line.split()[1]))\n",
    "    \n",
    "    return np.array(x), np.array(y)"
   ]
  },
  {
   "cell_type": "code",
   "execution_count": 29,
   "id": "09b4fa0f-6657-4692-bd9f-63fe56243a8b",
   "metadata": {},
   "outputs": [
    {
     "data": {
      "text/plain": [
       "[<matplotlib.lines.Line2D at 0x181aa7820>]"
      ]
     },
     "execution_count": 29,
     "metadata": {},
     "output_type": "execute_result"
    },
    {
     "data": {
      "image/png": "[encoded data removed]",
      "text/plain": [
       "<Figure size 432x288 with 1 Axes>"
      ]
     },
     "metadata": {
      "needs_background": "light"
     },
     "output_type": "display_data"
    }
   ],
   "source": [
    "t, E = get_data_from_xvg(\"minimization_1/energy_1.xvg\")\n",
    "plt.plot(t, E)"
   ]
  },
  {
   "cell_type": "markdown",
   "id": "303d240c-9a1a-48da-b24e-49316d37e8aa",
   "metadata": {},
   "source": [
    "Well, that looks funny.\n",
    "\n",
    "What's happening here is the energy is enormous to start, thanks to unfavorable interactions between the added solvent and ions and the protein, so it drops rapidly thanks to the steepest descent minimization.\n",
    "\n",
    "To get a better sense for what's going on, let's look at the *change* in energy from step to step, and plot it on the log scale:"
   ]
  },
  {
   "cell_type": "code",
   "execution_count": 30,
   "id": "27a7e940-e454-419e-92f3-b699c80ec49e",
   "metadata": {},
   "outputs": [],
   "source": [
    "def dE(time,energy):\n",
    "    ''' helper function for getting changes in energy in absolute terms\n",
    "    '''\n",
    "    dE = []\n",
    "    for i in range(len(t)-1):\n",
    "        dE.append(energy[i+1]-energy[i])\n",
    "        \n",
    "    return t[1:], [abs(E) for E in dE] "
   ]
  },
  {
   "cell_type": "code",
   "execution_count": 31,
   "id": "89c34df1-c7ae-4c30-8876-e2f4996a6ae8",
   "metadata": {},
   "outputs": [
    {
     "name": "stdout",
     "output_type": "stream",
     "text": [
      "Average abs change in energy for the last 50 steps: 107.3825 kJ/mol\n"
     ]
    },
    {
     "data": {
      "image/png": "[encoded data removed]",
      "text/plain": [
       "<Figure size 432x288 with 1 Axes>"
      ]
     },
     "metadata": {
      "needs_background": "light"
     },
     "output_type": "display_data"
    }
   ],
   "source": [
    "plt.semilogy(dE(t,E)[0], dE(t,E)[1])\n",
    "print(\"Average abs change in energy for the last 50 steps: {} kJ/mol\".format(np.mean(dE(t,E)[-1][-50:])))"
   ]
  },
  {
   "cell_type": "markdown",
   "id": "a5babac1-1950-45b1-8e76-1ce746e5a96c",
   "metadata": {},
   "source": [
    "# Equlibration"
   ]
  },
  {
   "cell_type": "markdown",
   "id": "d9cdd279-6463-40a3-b8cf-9d0a84b4637f",
   "metadata": {},
   "source": [
    "Now we're going to do some actual Molecular Dynamics simulation.\n",
    "\n",
    "Take a look at the `equil.mdp` file in the `mdp_files` directory to see the parameters we set for this, but the important bits are:\n",
    "\n",
    "- `define = -DPOSRES`:  puts restraints on the protein, ligand, and ions (all set to 1000 kJ/(moln m^2))\n",
    "- `integrator = md`: use the leap-frog numerical integration algorithm\n",
    "- `nsteps = 500`: do 500 total steps of simulation (500 steps * 0.002 fs/step = 1 ps)\n",
    "- `dt = 0.002`: each with a time step of 2 fs (base units are ps)\n",
    "- `nstxout, nstenergy, etc = 5`: sets the number of steps to wait before outputting coordinate and energy (etc.) information in their own respective files (in our case, 5 steps, so output every 10 fs (0.01 ps)\n",
    "\n",
    "The only new argument to `grompp` here is the `-r` which specfifies the coordinate file to use for the target for restraints. Here's we'll just use the solvated, neutralized crystal structure (`supercell_solvated_neutral.gro`). Make sure this file always has the same number of atoms as the coordiante file. Even if the number of atoms in the actually *restrained* part is the same, if there's a differnt number of solvent atoms, it will complain."
   ]
  },
  {
   "cell_type": "code",
   "execution_count": 32,
   "id": "20b578a5-f981-4a79-b381-d4d28becd1b8",
   "metadata": {},
   "outputs": [
    {
     "data": {
      "text/plain": [
       "CompletedProcess(args=['gmx mdrun -s equil_1.tpr -deffnm equil_1'], returncode=0)"
      ]
     },
     "execution_count": 32,
     "metadata": {},
     "output_type": "execute_result"
    }
   ],
   "source": [
    "equil_pre = \"gmx grompp -f mdp_files/equil.mdp -c minimization_1/min_1.gro -p supercell.top -r supercell_solvated_neutral.gro -o equil_1.tpr -maxwarn 2\"\n",
    "equil_go  = \"gmx mdrun -s equil_1.tpr -deffnm equil_1\"\n",
    "subprocess.run([equil_pre], shell=True)\n",
    "subprocess.run([equil_go], shell=True)"
   ]
  },
  {
   "cell_type": "code",
   "execution_count": 36,
   "id": "e59e4650-4c6d-4f6a-a531-15dec6662a05",
   "metadata": {},
   "outputs": [
    {
     "data": {
      "text/plain": [
       "CompletedProcess(args=['mkdir equilibration_1; mv equil_1.* equilibration_1'], returncode=0)"
      ]
     },
     "execution_count": 36,
     "metadata": {},
     "output_type": "execute_result"
    }
   ],
   "source": [
    "# move files out of the current directory to keep things clean\n",
    "clean_up = \"mkdir equilibration_1; mv equil_1.* equilibration_1\"\n",
    "subprocess.run([clean_up], shell=True)"
   ]
  },
  {
   "cell_type": "markdown",
   "id": "acbe3463-ac4e-405f-a391-c3c05599490a",
   "metadata": {},
   "source": [
    "We use `gmx energy` again, this time feeding in the selection `19` for the pressure."
   ]
  },
  {
   "cell_type": "code",
   "execution_count": 37,
   "id": "fda7338b-889a-41cf-90f4-de57391a6964",
   "metadata": {},
   "outputs": [
    {
     "data": {
      "text/plain": [
       "CompletedProcess(args=['mv equil_pressure_1.xvg equilibration_1'], returncode=0)"
      ]
     },
     "execution_count": 37,
     "metadata": {},
     "output_type": "execute_result"
    }
   ],
   "source": [
    "get_pressure = \"echo 19 | gmx energy -f equilibration_1/equil_1.edr -o equil_pressure_1.xvg\"\n",
    "subprocess.run([get_pressure], shell=True)\n",
    "subprocess.run([\"mv equil_pressure_1.xvg equilibration_1\"], shell=True)"
   ]
  },
  {
   "cell_type": "code",
   "execution_count": 38,
   "id": "013fc4c6-d379-4b2b-a62d-12a908a4d395",
   "metadata": {},
   "outputs": [],
   "source": [
    "def get_mean_and_std_error(T,P):\n",
    "    ''' helper funciton for getting the mean and standard error\n",
    "    '''\n",
    "    std_error = []\n",
    "    mean = []\n",
    "    for i in range(len(T)-1):\n",
    "        mean.append(np.mean(P[:i+1]))\n",
    "        std_error.append(np.std(P[:i+1])/np.sqrt(i+1))\n",
    "    \n",
    "    return np.array(mean), np.array(std_error)"
   ]
  },
  {
   "cell_type": "code",
   "execution_count": 39,
   "id": "1e9031ba-3061-4612-b424-d250b6320cd6",
   "metadata": {},
   "outputs": [
    {
     "name": "stdout",
     "output_type": "stream",
     "text": [
      "Final Pressure Estimate: -1275.53 +/- 40.54 bar\n"
     ]
    },
    {
     "data": {
      "image/png": "[encoded data removed]",
      "text/plain": [
       "<Figure size 432x288 with 1 Axes>"
      ]
     },
     "metadata": {
      "needs_background": "light"
     },
     "output_type": "display_data"
    }
   ],
   "source": [
    "t, p = get_data_from_xvg(\"equilibration_1/equil_pressure_1.xvg\")\n",
    "mean, std_e = get_mean_and_std_error(t, p)\n",
    "plt.plot(t,p)\n",
    "plt.plot(t[1:], mean, color=\"Red\", alpha=0.5)\n",
    "plt.fill_between(t[1:], mean-std_e, mean+std_e, color=\"Red\", alpha=0.1)\n",
    "print(\"Final Pressure Estimate: {:.2f} +/- {:.2f} bar\".format(mean[-1], std_e[-1]))"
   ]
  },
  {
   "cell_type": "markdown",
   "id": "e78dcfd1-6be7-48d3-a3dc-bc003c0f9265",
   "metadata": {},
   "source": [
    "Negative pressure! What does that even mean?\n",
    "\n",
    "Well it means that there's not enough solvent. There aren't enough solvent molecules at this temperature to fill the space, so the space feels a negative pressure (it would collapse in on itself, if we didn't have periodic boundary conditions).\n",
    "\n",
    "We need to add more solvent to bring the pressure up.\n",
    "\n",
    "In normal simulations, we would use the NPT ensemble (constant number of particles, pressure, and temperature), keeping the pressure constant with a barostat by changing the box size (decreasing to increase pressure, increasing to decrease pressure). Here, though, we need to use the NVT ensemble, with constrant volume, becasue we need to keep the crystallographic symmetry by fixing the box size. This means we need to get the pressure up to atmospheric pressure on our own. We accomplish this by adding more waters."
   ]
  },
  {
   "cell_type": "markdown",
   "id": "13f16ae2-703c-406f-8589-d2d70d8dac22",
   "metadata": {},
   "source": [
    "# Adding additional solvent"
   ]
  },
  {
   "cell_type": "code",
   "execution_count": 41,
   "id": "3c05550a-3e9e-452b-bfc7-f535a3be5fca",
   "metadata": {},
   "outputs": [
    {
     "data": {
      "text/plain": [
       "CompletedProcess(args=['gmx solvate -cp equilibration_1/equil_1.gro -cs spc216.gro -p supercell.top -o supercell_solvated_neutral_2.gro'], returncode=0)"
      ]
     },
     "execution_count": 41,
     "metadata": {},
     "output_type": "execute_result"
    }
   ],
   "source": [
    "solvate_cmd = \"gmx solvate -cp equilibration_1/equil_1.gro -cs spc216.gro -p supercell.top -o supercell_solvated_neutral_2.gro\"\n",
    "subprocess.run([solvate_cmd], shell=True)"
   ]
  },
  {
   "cell_type": "code",
   "execution_count": 42,
   "id": "fd0874cc-e856-44ee-9f4a-006c2b683307",
   "metadata": {},
   "outputs": [],
   "source": [
    "min_pre = \"gmx grompp -f mdp_files/min.mdp -c supercell_solvated_neutral_2.gro -p supercell.top -o min_2.tpr -maxwarn 2\"\n",
    "min_go = \"gmx mdrun -s min_2.tpr -deffnm min_2\"\n",
    "subprocess.run([min_pre], shell=True);\n",
    "subprocess.run([min_go], shell=True);"
   ]
  },
  {
   "cell_type": "code",
   "execution_count": 43,
   "id": "8111d811-323f-4cd5-9c90-a2f0272d95fe",
   "metadata": {},
   "outputs": [
    {
     "data": {
      "text/plain": [
       "CompletedProcess(args=['mkdir minimization_2; mv min_2.* minimization_2'], returncode=0)"
      ]
     },
     "execution_count": 43,
     "metadata": {},
     "output_type": "execute_result"
    }
   ],
   "source": [
    "clean_up = \"mkdir minimization_2; mv min_2.* minimization_2\"\n",
    "subprocess.run([clean_up], shell=True)"
   ]
  },
  {
   "cell_type": "code",
   "execution_count": 44,
   "id": "5ba59ebf-8bf6-4d7f-ace2-8433dbe00aeb",
   "metadata": {},
   "outputs": [
    {
     "data": {
      "text/plain": [
       "CompletedProcess(args=['mv energy_2.xvg minimization_2'], returncode=0)"
      ]
     },
     "execution_count": 44,
     "metadata": {},
     "output_type": "execute_result"
    }
   ],
   "source": [
    "get_energy = \"echo 11 | gmx energy -f minimization_2/min_2.edr -o energy_2.xvg\"\n",
    "subprocess.run([get_energy], shell=True)\n",
    "subprocess.run([\"mv energy_2.xvg minimization_2\"], shell=True)"
   ]
  },
  {
   "cell_type": "code",
   "execution_count": 45,
   "id": "33bcad2f-5472-4cff-8d37-5e10960686c2",
   "metadata": {},
   "outputs": [
    {
     "data": {
      "text/plain": [
       "[<matplotlib.lines.Line2D at 0x181d59190>]"
      ]
     },
     "execution_count": 45,
     "metadata": {},
     "output_type": "execute_result"
    },
    {
     "data": {
      "image/png": "[encoded data removed]",
      "text/plain": [
       "<Figure size 432x288 with 1 Axes>"
      ]
     },
     "metadata": {
      "needs_background": "light"
     },
     "output_type": "display_data"
    }
   ],
   "source": [
    "t, E = get_data_from_xvg(\"minimization_2/energy_2.xvg\")\n",
    "plt.plot(t, E)"
   ]
  },
  {
   "cell_type": "code",
   "execution_count": 46,
   "id": "8aa8dcc7-cd8a-425e-83d7-33d403426706",
   "metadata": {},
   "outputs": [
    {
     "name": "stdout",
     "output_type": "stream",
     "text": [
      "Average abs change in energy for the last 50 steps: 61.04 kJ/mol\n"
     ]
    },
    {
     "data": {
      "image/png": "[encoded data removed]",
      "text/plain": [
       "<Figure size 432x288 with 1 Axes>"
      ]
     },
     "metadata": {
      "needs_background": "light"
     },
     "output_type": "display_data"
    }
   ],
   "source": [
    "plt.semilogy(dE(t,E)[0], dE(t,E)[1])\n",
    "print(\"Average abs change in energy for the last 50 steps: {} kJ/mol\".format(np.mean(dE(t,E)[-1][-50:])))"
   ]
  },
  {
   "cell_type": "code",
   "execution_count": 47,
   "id": "c725cb72-8448-4415-ad5c-ec2e6efaa043",
   "metadata": {},
   "outputs": [
    {
     "data": {
      "text/plain": [
       "CompletedProcess(args=['gmx mdrun -s equil_2.tpr -deffnm equil_2'], returncode=0)"
      ]
     },
     "execution_count": 47,
     "metadata": {},
     "output_type": "execute_result"
    }
   ],
   "source": [
    "equil_pre = \"gmx grompp -f mdp_files/equil.mdp -c minimization_2/min_2.gro -p supercell.top -r supercell_solvated_neutral_2.gro -o equil_2.tpr -maxwarn 2\"\n",
    "equil_go  = \"gmx mdrun -s equil_2.tpr -deffnm equil_2\"\n",
    "subprocess.run([equil_pre], shell=True)\n",
    "subprocess.run([equil_go], shell=True)"
   ]
  },
  {
   "cell_type": "code",
   "execution_count": 48,
   "id": "6c5d0265-e964-40e0-b6a6-fc63a1d636fc",
   "metadata": {},
   "outputs": [
    {
     "data": {
      "text/plain": [
       "CompletedProcess(args=['mkdir equilibration_2; mv equil_2.* equilibration_2'], returncode=0)"
      ]
     },
     "execution_count": 48,
     "metadata": {},
     "output_type": "execute_result"
    }
   ],
   "source": [
    "clean_up = \"mkdir equilibration_2; mv equil_2.* equilibration_2\"\n",
    "subprocess.run([clean_up], shell=True)"
   ]
  },
  {
   "cell_type": "code",
   "execution_count": 49,
   "id": "e72f0a4b-485d-45d1-87e4-c064b3224fa8",
   "metadata": {},
   "outputs": [
    {
     "data": {
      "text/plain": [
       "CompletedProcess(args=['mv equil_pressure_2.xvg equilibration_2'], returncode=0)"
      ]
     },
     "execution_count": 49,
     "metadata": {},
     "output_type": "execute_result"
    }
   ],
   "source": [
    "get_pressure = \"echo 19 | gmx energy -f equilibration_2/equil_2.edr -o equil_pressure_2.xvg\"\n",
    "subprocess.run([get_pressure], shell=True)\n",
    "subprocess.run([\"mv equil_pressure_2.xvg equilibration_2\"], shell=True)"
   ]
  },
  {
   "cell_type": "code",
   "execution_count": 50,
   "id": "2c3377a2-fbd9-4cae-a7bb-d6a1b61a9827",
   "metadata": {},
   "outputs": [
    {
     "name": "stdout",
     "output_type": "stream",
     "text": [
      "Final Pressure Estimate: 446.55 +/- 55.15 bar\n"
     ]
    },
    {
     "data": {
      "image/png": "[encoded data removed]",
      "text/plain": [
       "<Figure size 432x288 with 1 Axes>"
      ]
     },
     "metadata": {
      "needs_background": "light"
     },
     "output_type": "display_data"
    }
   ],
   "source": [
    "t, p = get_data_from_xvg(\"equilibration_2/equil_pressure_2.xvg\")\n",
    "mean, std_e = get_mean_and_std_error(t, p)\n",
    "plt.plot(t,p)\n",
    "plt.plot(t[1:], mean, color=\"Red\", alpha=0.5)\n",
    "plt.fill_between(t[1:], mean-std_e, mean+std_e, color=\"Red\", alpha=0.1)\n",
    "print(\"Final Pressure Estimate: {:.2f} +/- {:.2f} bar\".format(mean[-1], std_e[-1]))"
   ]
  },
  {
   "cell_type": "markdown",
   "id": "4ea6c8a4-3f99-41cc-9cc1-6f63f24e7faf",
   "metadata": {},
   "source": [
    "## Now we're close!\n",
    "\n",
    "In practice, you want longer minimizations (e.g. 5000-10,000 steps) and longer equilibrations (e.g. 10-100 ps) just to make sure everything is stable. But you can get the idea for what we're going even with these short runs.\n",
    "\n",
    "You basically want to add or remove solvent using the average pressure as a guide.\n",
    "\n",
    "For instance, our original solvated supercell had 16,531 waters, and the new one has 18,574 (1721 added) and the pressure went from -1275 to 446. We can find an estimate for the number of waters to add to bring us to 1 bar by linear interpolation:\n",
    "\n",
    "$P = (446-(-1275))/(18574-16531) \\mathrm{d}N_{w} + -1275$\n",
    "\n",
    "where $dN_{w}$ is the change in the number of total waters from the startin number. \n",
    "\n",
    "We want to set $P$ to 1 and solve for $N_{w}$ to get an estimate for how many waters to add or subtract in our next run.\n",
    "\n",
    "$1 = (1721/2043) \\mathrm{d}N_{w} - 1275 \\rightarrow 1276 = 0.8424 * \\mathrm{d}N_{w} \\rightarrow \\mathrm{d}N_{w} = 1515$\n",
    "\n",
    "So we added too many: we only needed to add 1515 waters to the original file (if the pressure estiamtes were actually good) but we added 1721.\n",
    "\n",
    "For the next round, we'd want to eliminate 206 (1721-1515) waters, and run again.\n",
    "\n",
    "We keep doing this iterative process until the pressure +/- standard error is in the range (-100,100) bar. Then we're ready for production simulation!"
   ]
  },
  {
   "cell_type": "markdown",
   "id": "7c34ae08-49ab-48b7-9a49-5929c2f071aa",
   "metadata": {},
   "source": [
    "# Taking a look at the trajectory"
   ]
  },
  {
   "cell_type": "markdown",
   "id": "3fe39ad3-60c6-420b-bd8f-ae69637c9f8e",
   "metadata": {},
   "source": [
    "`gmx trjconv` converts the `.trr` trajectory file to another `.trr` trajectory file, but with the molecules mapped back, according to the periodic boundary conditions, so that the molecules are kept whole (`-pbc mol`)."
   ]
  },
  {
   "cell_type": "code",
   "execution_count": 67,
   "id": "057cfa79-b241-4094-99f7-8b5dc542f14b",
   "metadata": {},
   "outputs": [
    {
     "data": {
      "text/plain": [
       "CompletedProcess(args=['mv equil_2_mol.trr equilibration_2'], returncode=0)"
      ]
     },
     "execution_count": 67,
     "metadata": {},
     "output_type": "execute_result"
    }
   ],
   "source": [
    "traj_processing = \"echo 0 | gmx trjconv -f equilibration_2/equil_2.trr -s equilibration_2/equil_2.tpr -o equil_2_mol.trr -pbc mol\"\n",
    "subprocess.run([traj_processing], shell=True)\n",
    "subprocess.run([\"mv equil_2_mol.trr equilibration_2\"], shell=True)"
   ]
  },
  {
   "cell_type": "code",
   "execution_count": 68,
   "id": "12fd9b92-72d8-4aed-be01-70a3476af501",
   "metadata": {},
   "outputs": [],
   "source": [
    "import mdtraj as md\n",
    "traj = md.load(\"./equilibration_2/equil_2_mol.trr\", top=\"./supercell_solvated_neutral_2.gro\")"
   ]
  },
  {
   "cell_type": "code",
   "execution_count": 70,
   "id": "e6c46ea6-8da1-41a4-95e8-fa87362d2e9e",
   "metadata": {},
   "outputs": [
    {
     "data": {
      "application/vnd.jupyter.widget-view+json": {
       "model_id": "3d76b079767745d7a2077c89f9d9f798",
       "version_major": 2,
       "version_minor": 0
      },
      "text/plain": [
       "NGLWidget(max_frame=100)"
      ]
     },
     "metadata": {},
     "output_type": "display_data"
    }
   ],
   "source": [
    "traj_view = ngl.show_mdtraj(traj)\n",
    "traj_view.clear_representations()\n",
    "traj_view.add_cartoon(\"protein\")\n",
    "traj_view.add_ball_and_stick(\"water\", opacity=0.5)\n",
    "traj_view.add_spacefill(\"name CL\", color=\"yellow\")\n",
    "traj_view.add_point(\"not protein and not water and not name CL\")\n",
    "traj_view.camera = \"orthographic\"\n",
    "traj_view"
   ]
  },
  {
   "cell_type": "code",
   "execution_count": null,
   "id": "4e6c0e92-df01-43d6-bc11-430f405776e7",
   "metadata": {},
   "outputs": [],
   "source": []
  }
 ],
 "metadata": {
  "kernelspec": {
   "display_name": "Python 3",
   "language": "python",
   "name": "python3"
  },
  "language_info": {
   "codemirror_mode": {
    "name": "ipython",
    "version": 3
   },
   "file_extension": ".py",
   "mimetype": "text/x-python",
   "name": "python",
   "nbconvert_exporter": "python",
   "pygments_lexer": "ipython3",
   "version": "3.9.4"
  }
 },
 "nbformat": 4,
 "nbformat_minor": 5
}

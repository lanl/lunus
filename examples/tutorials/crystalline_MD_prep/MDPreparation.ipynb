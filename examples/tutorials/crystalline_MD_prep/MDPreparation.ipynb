{
 "cells": [
  {
   "cell_type": "markdown",
   "id": "3f716677",
   "metadata": {},
   "source": [
    "# Molecular-dynamics simulations of macromolecular diffraction, part I: Preparation of protein crystal simulations, Jupyter notebook\n",
    "\n",
    "$\\text{David Wych}^{1,2}, \\text{Michael E. Wall}^{1}$\n",
    "\n",
    "1. Computer, Computational and Statistical Sciences Division, Los Alamos National Laboratory, Los Alamos, NM 87545, USA\n",
    "2. Center for Nonlinear Studies, Los Alamos National Laboratory, Los Alamos, NM 87545, USA"
   ]
  },
  {
   "cell_type": "code",
   "execution_count": null,
   "id": "f55137fb",
   "metadata": {},
   "outputs": [],
   "source": [
    "import cctbx\n",
    "import iotbx.pdb\n",
    "import numpy as np\n",
    "import itertools\n",
    "import nglview as ngl\n",
    "import parmed as pmd\n",
    "import subprocess"
   ]
  },
  {
   "cell_type": "markdown",
   "id": "8c5a5c97",
   "metadata": {},
   "source": [
    "*Note: we use ```![command]``` syntax throughtout this notebook to run `[command]` as though we were running it from the command line in the directory that we launched this notebook from. Other commands are `python` code that you can interpret as being run from short `python` scripts.*\n",
    "\n",
    "*Also Note: if you try to run this whole notebook using `Kernel > Restart & Run All` or `Cell > Run All` or something similar in the menu bar above, not that the `nglview` widgets will not show the visualizations until the kernel is interrupted, or until every code block has run. If the `nglview` widgets are empty or haven't spawned a window, make sure that no other code block is running, and run those code block again.*"
   ]
  },
  {
   "cell_type": "markdown",
   "id": "6751c135",
   "metadata": {},
   "source": [
    "### Preparing a structural model: missing atoms and residues"
   ]
  },
  {
   "cell_type": "markdown",
   "id": "b993b95f",
   "metadata": {},
   "source": [
    "The protein we're going to be working with is *staphylococcal nuclease*, a protein that digests single stranded nucleic acids. \n",
    "\n",
    "The structure for *staph. nuclease* were going to use is the PDB structure with pdbid `4WOR`.\n",
    "\n",
    "This structure has a calcium ion and a ligand (thymidine-3'-5'-diphosphate or \"pdTp\") bound to the active site. \n",
    "\n",
    "You can explore the structure in the window below (and all the `ngl` Widgets we produce in this script) The secondary structure of the protein is shown in the ribbon diagram, the full atomic structure is shown in a semi-transparent ball-and-stick representation. The pdTp and calcium are shown in ball and stick. \n",
    "\n",
    "We encourage you to explore them, to see what the code has accomplished at each step along the way. You can zoom in and out, and move the structure around by pressing `ctrl` (or holding down right-click on the mouse) and dragging.\n",
    "\n",
    "[**Note:** We've seen that the NGL viewer can fail to work in this notebook. If this happens, the .pdb files may be viewed using standard visualization tools, such as Pymol, VMD, or coot.]"
   ]
  },
  {
   "cell_type": "code",
   "execution_count": null,
   "id": "1a8991e0",
   "metadata": {},
   "outputs": [],
   "source": [
    "view = ngl.show_structure_file(\"./files/4wor.pdb\")\n",
    "view.clear_representations()\n",
    "view.add_cartoon(\"protein\")\n",
    "view.add_ball_and_stick(\"not protein and not water\")\n",
    "view.add_licorice(\"protein\", opacity=0.3)\n",
    "view"
   ]
  },
  {
   "cell_type": "markdown",
   "id": "282e27ef",
   "metadata": {},
   "source": [
    "That is a representation of the **coordinates** of all the atoms, contained in the `.pdb` file, but in order to simulate the protein using Molecular Dynamics (MD) we're going to need to give those atoms **properties**, like mass, charge, and van der Waals radii, and bonded properties like bond stiffness and dihedral angle constraints, etc. "
   ]
  },
  {
   "cell_type": "markdown",
   "id": "ebe82ae9",
   "metadata": {},
   "source": [
    "### Forcefields: choices and parametrization\n",
    "\n",
    "The aforementioned properties are determined by the \"forcefield\", which is a name given the full set of parameters describing the preperties of the atoms.\n",
    "\n",
    "The force field we're going to use for the protein is the `Amber99SB-ildn` force field. This force field also comes bundled with the `tip3p` parameter set for the waters and parameters for ions, like the calcium in the active site.\n",
    "\n",
    "We are going to have to parameterize the pdTp molecule separately.\n",
    "\n",
    "Let's separate out the pdTp atoms, so that we can deal with them separately."
   ]
  },
  {
   "cell_type": "code",
   "execution_count": null,
   "id": "0bb0442a",
   "metadata": {},
   "outputs": [],
   "source": [
    "# read the full structure file\n",
    "with open(\"./files/4wor.pdb\", 'r') as input_file:\n",
    "    # open up another .pdb file to write to (for the protein + Ca ion)\n",
    "    with open(\"protein_calcium.pdb\", 'w') as output_file_prot:\n",
    "        # ... and another for the pdTp molecule\n",
    "        with open(\"pdTp.pdb\", 'w') as output_file_pdTp:\n",
    "            lines = input_file.readlines()                \n",
    "            for line in lines:\n",
    "                # ignore CONECT records\n",
    "                if line[:6] != \"CONECT\":\n",
    "                    # the resname for the pdTp molecule is \"THP\"\n",
    "                    if line[:6] == \"HETATM\" and \"THP\" in line:\n",
    "                        output_file_pdTp.write(line)\n",
    "                    else:\n",
    "                        # write everyting else but the waters to the protein\n",
    "                        # and calcium .pdb file\n",
    "                        if not \"HOH\" in line:\n",
    "                            output_file_prot.write(line)"
   ]
  },
  {
   "cell_type": "markdown",
   "id": "a6933abd",
   "metadata": {},
   "source": [
    "The ligand is a molecule of **thymidine-3',5'-diphosphate**, also known as **\"pdTp\"**, which acts as an inhibitor to the protein's normal substrate, which is single stranded DNA/RNA."
   ]
  },
  {
   "cell_type": "code",
   "execution_count": null,
   "id": "4ada89fb",
   "metadata": {},
   "outputs": [],
   "source": [
    "view = ngl.show_structure_file(\"pdTp.pdb\")\n",
    "view"
   ]
  },
  {
   "cell_type": "markdown",
   "id": "fa5f62b3",
   "metadata": {},
   "source": [
    "A few things make parametrization of arbitrary small molecules difficult:\n",
    "\n",
    "- Chemistry is complex\n",
    "    - For that reason, things like $\\text{pK}_a$ / protonation states and molecular geometry -- even things like bond order and connectivity -- are hard to predict, just starting from scratch, given a molecule's coordinates.\n",
    "- Quantum mechanics (QM) is also difficult, but we need to do QM to get things truly right.\n",
    "    - E.g. to get the partial charges of the atoms, we need to know how the electrons are distributed around the molecule, which comes down (ultimately) to quantum mechanics.\n",
    "\n",
    "Thankfully, smart people have found workarounds.\n",
    "\n",
    "There are a variety of ways to parametrize a small molecule, but this task is so important and so common that there exist webservers that will do it for you!\n",
    "\n",
    "We used the webserver [SwissParam](https://swissparam.ch) to generate all the files present in the `pdTp/` directory that accompanies this notebook (after first adding hydrogens with UCSF `Chimera`'s `Structure Editing > AddH` tool, and then saving the coordinates out to a `.mol2` format, which the SwissParam server requires).\n",
    "\n",
    "You can also attempt to parametrize small-molecules yourself. This can be accomplished with `ambertools`' `tleap`, `parmchk2` and `antechamber` packages, as shown in [this fabulous tutorial](https://ambermd.org/tutorials/basic/tutorial4b/index.php) from the AMBER website)."
   ]
  },
  {
   "cell_type": "markdown",
   "id": "e437c9c2",
   "metadata": {},
   "source": [
    "Next we're going to process the protein and calcium atoms with `pdb4amber`, which adds on atoms that might be missing from residues, and caps off the N- and C-termini (given the flag `--add-missing-atoms`).\n",
    "\n",
    "Note that if the structure is missing _residues_, you'll need to add them. This can be accomplished with homology modelling, or by adding residues in some other principled fashion, as we discuss in the accompanying paper."
   ]
  },
  {
   "cell_type": "code",
   "execution_count": null,
   "id": "b2b6dae1",
   "metadata": {},
   "outputs": [],
   "source": [
    "!pdb4amber -i protein_calcium.pdb -o protein_calcium_amber.pdb --add-missing-atoms\n",
    "!mkdir pdb4amber_files; mv protein_calcium_amber_* pdb4amber_files"
   ]
  },
  {
   "cell_type": "markdown",
   "id": "e2064114",
   "metadata": {},
   "source": [
    "Then we're going to use `GROMACS`'s `pdb2gmx` to generate a topology file for the protein and calcium file, using, in this case, `Amber99sb-ildn` forcefield, and making sure that the parameters for the water come along with. The flag ignh makes sure that gromacs ignores any hygrogens that might be in the file, and places in hydrogens of its own (just to make sure `GROMACS` stays happy)."
   ]
  },
  {
   "cell_type": "code",
   "execution_count": null,
   "id": "c24e33d0",
   "metadata": {},
   "outputs": [],
   "source": [
    "%%capture\n",
    "!gmx pdb2gmx -f protein_calcium_amber.pdb -o protein_calcium_gmx.pdb -p protein.top --water spce --ff amber99sb-ildn -ignh"
   ]
  },
  {
   "cell_type": "markdown",
   "id": "21a6aba3",
   "metadata": {},
   "source": [
    "Now, we need to concatenate the protein and calcium structure with the structure of the ligand.\n",
    "\n",
    "We make sure that the structure file for the full assymetric unit has all the header information from `4wor.pdb` (so that we can use `cctbx` to build the unit cell and supercell correctly, as we'll discuss shortly).\n",
    "\n",
    "Here's what the code below accomplishes: \n",
    "- We want to ignore all the waters when we stitch things together. We're going to want the MD to infer the water structure, so we don't want to include the crystallographic waters from the start.\n",
    "- The SwissParam server outputted a `.pdb` file where `ATOM` record has its element column set to `LIG` rather than the chemical element of the corresponding atom. This needs to get fixed. So we set the element column elements individually, according to the atomtype column.\n",
    "- The pdTp molecule has residue number 1, even though we want it to be in the same chain (A) as the protein, which already has a residue with residue number 1. If we don't fix this, the software will think all of the atoms with residue number 1 in the same chain are in the same residue. We need to fix this. So we give it the resid 301.\n",
    "- Additionally, the `.pdb` file produced by `GROMACS` above is missing characters in the element column for every hydrogen atom (though the non-hydrogens have the correct characters in the element column). We need to fix this to get `cctbx` to process the file correctly. \n",
    "- Every atom is also missing a chain ID. We need to add them back in.\n",
    "- The separate molecules are missing `TER` records that distinguish them as separate molecules, to the software. \n",
    "\n",
    "These edits are necessary to ensure that `cctbx`/`GROMACS` etc. will be able to read and process the file properly."
   ]
  },
  {
   "cell_type": "code",
   "execution_count": null,
   "id": "5ee99f70",
   "metadata": {},
   "outputs": [],
   "source": [
    "with open(\"protein_calcium_gmx.pdb\", 'r') as input_prot:\n",
    "    with open(\"./files/4wor.pdb\", 'r') as input_header:\n",
    "        with open(\"pdTp/pdTp.pdb\", 'r') as input_pdTp:\n",
    "            with open(\"asymmetric_unit.pdb\", 'w') as output_file:\n",
    "                # store the header lines containing the \"CRYST1\" and \"SCALE\" records\n",
    "                # needed for cctbx laters\n",
    "                header_lines = [line for line in input_header.readlines() if line[:5] in [\"CRYST\", \"SCALE\"]]\n",
    "                # store the lines for the protein, leaving out the \"TITLE\" and \"MODEL\"\n",
    "                # records at the start and the \"TER\" and \"ENDMDL\" records at the end\n",
    "                prot_lines = input_prot.readlines()[2:-2]\n",
    "                # storing the atoms from the pdTp file\n",
    "                pdTp_lines = [line for line in input_pdTp.readlines() if \"ATOM\" in line]\n",
    "                # write the header\n",
    "                for line in header_lines:\n",
    "                    output_file.write(line)\n",
    "                # write the protein+calcium atoms\n",
    "                for line in prot_lines:\n",
    "                    # making sure no waters present\n",
    "                    if not \"HOH\" in line:\n",
    "                        # for the calcium...\n",
    "                        if \"CA   CA\" in line:\n",
    "                            # put a \"TER\" record before\n",
    "                            output_file.write(\"TER\\n\")\n",
    "                            line = line[:21] + \"A\" + line[22:]\n",
    "                            # to continue the atom indices from here...\n",
    "                            index = int(line[7:11]) + 1\n",
    "                            output_file.write(line)\n",
    "                        else:\n",
    "                            if line[:6] in [\"ATOM  \", \"HETATM\"]:\n",
    "                                # make every atom chain A\n",
    "                                line = line[:21] + \"A\" + line[22:]\n",
    "                                # add element info for hydgens\n",
    "                                if \"H\" in line[12:16]:\n",
    "                                    line = line[:77] + \"H \\n\"\n",
    "                            output_file.write(line)\n",
    "                # write the pdTp atoms\n",
    "                for line in pdTp_lines:\n",
    "                    # get the element\n",
    "                    if \"H\" in line[12:16]:\n",
    "                        element = \"H\"\n",
    "                    if \"N\" in line[12:16]:\n",
    "                        element = \"N\"\n",
    "                    if \"C\" in line[12:16]:\n",
    "                        element = \"C\"\n",
    "                    if \"O\" in line[12:16]:\n",
    "                        element = \"O\"\n",
    "                    if \"P\" in line[12:16]:\n",
    "                        element = \"P\"\n",
    "                    # make the resid 301, the chain A, and write the element on the end\n",
    "                    line = line[:7] + str(index) + line[11:21] + \"A 301\" + line[26:72] + \"     {}\".format(element) + \" \\n\"\n",
    "                    index += 1\n",
    "                    output_file.write(line)\n",
    "                output_file.write(\"END\\n\")"
   ]
  },
  {
   "cell_type": "markdown",
   "id": "b34deef6",
   "metadata": {},
   "source": [
    "Now, the topology file for the supercell will be the same as the topology file for the asymmetric unit, just with 31 extra copies of the `[moleculetype]` records appended, because there will be 31 extra copies of the asymmetric unit in the supercell.\n",
    "\n",
    "So, to convert the `protein.top` file to the `supercell.top` file, we just need to tack those lines on to the end, in order."
   ]
  },
  {
   "cell_type": "code",
   "execution_count": null,
   "id": "6305358e",
   "metadata": {},
   "outputs": [],
   "source": [
    "with open(\"protein.top\", 'r') as f:\n",
    "    with open(\"supercell.top\", 'w') as g:\n",
    "        lines = f.readlines()\n",
    "        # there's only protein and calcium in the moleculetype\n",
    "        # record for the protein.top file, so the final two\n",
    "        # lines are protein and calcium\n",
    "        final_lines = [line for line in lines][-2:]\n",
    "        for line in lines:\n",
    "            # Making sure the reference to the pdTp parms goes\n",
    "            # in the right place\n",
    "            if \"forcefield.itp\" in line:\n",
    "                g.write(line)\n",
    "                g.write(\"#include \\\"pdTp/pdTp.itp\\\" \\n\")\n",
    "            else:\n",
    "                g.write(line)\n",
    "        # add LIG moleculetype to the asymetric unit\n",
    "        g.write(\"LIG                 1\\n\")\n",
    "        # then add 31 copies\n",
    "        for _ in range(31):\n",
    "            for line in final_lines:\n",
    "                g.write(line)\n",
    "            g.write(\"LIG                 1\\n\")"
   ]
  },
  {
   "cell_type": "markdown",
   "id": "a36f2f92",
   "metadata": {},
   "source": [
    "### Expanding the system using `cctbx`, using the symmetry information\n",
    "\n",
    "Next, we construct a `cctbx` hierarchy object from the asymmetric unit `.pdb` file, and use the `crystal_symmetry` information in the `xray_structure` for `4WOR` to propagate the asymmetric unit to a unit cell.\n",
    "\n",
    "So, we have a symmetry object for our future supercell structure, but first we have to *create the sturcture file*.\n",
    "\n",
    "Below is a call to `propagate.py`, which constructs supercells given input of asymmetric unit (`-au`), with the `CRYST1` information necessary to perform the propagation, and the number of copies of the unit cell along each direction we want to append to create the supercell (`-x`, `-y`, and `-z`).\n",
    "\n",
    "The script uses the `CRYST1` record to make copies of the protein and perform the space group symmetry operations necessary to fill out the unit cell, then makes copies of the unit cell and transforms them according to the unit cell vector lengths and directions. This script can tile the supercell with unit cells to an size.\n",
    "\n",
    "In our case, $\\alpha=\\beta=\\gamma=90^{\\text{o}}$, so the unit cell vectors are simply the box lengths in the x-, y- and z-directions, but the following code will work for any unit cells, with any unit cell side lengths and angles.\n",
    "\n",
    "![unit_cell_angles](./images/unit_cell_angles.png)"
   ]
  },
  {
   "cell_type": "code",
   "execution_count": null,
   "id": "12dd0889",
   "metadata": {},
   "outputs": [],
   "source": [
    "!python ./code/propagate.py -au asymmetric_unit.pdb -o supercell.pdb -x 2 -y 2 -z 2"
   ]
  },
  {
   "cell_type": "markdown",
   "id": "acbcf8cb",
   "metadata": {},
   "source": [
    "Next we need to process this file to remove the chain information, and renumber the residues."
   ]
  },
  {
   "cell_type": "code",
   "execution_count": null,
   "id": "a78bd903",
   "metadata": {},
   "outputs": [],
   "source": [
    "with open(\"supercell.pdb\", 'r') as f:\n",
    "    with open(\"supercell_no_chains_renumbered.pdb\", 'w') as g:\n",
    "        lines = f.readlines()\n",
    "        current_index = 1\n",
    "        # the first out of order resid is the LIG with resid 301\n",
    "        bad_index = 301\n",
    "        for line in lines:\n",
    "            if line[:4] == \"ATOM\":\n",
    "                # Get rid of the chainids\n",
    "                line = line[:20] + \"  \" + line[22:]\n",
    "                # Find the current inex\n",
    "                index = int(line[22:26])\n",
    "                # If we're in the same residue\n",
    "                if index == current_index:\n",
    "                    pass\n",
    "                # If we've arrived at the next residue\n",
    "                else:\n",
    "                    # Check to see if it's the next residue in order\n",
    "                    if index == current_index + 1:\n",
    "                        # Reset the current index\n",
    "                        current_index += 1\n",
    "                        # ... but otherwise do nothing, because it's fine\n",
    "                    else:\n",
    "                        # If it's not the next residue in order\n",
    "                        # check to see if it's the bad index and\n",
    "                        # reset the current\n",
    "                        if not index == bad_index:\n",
    "                            bad_index = int(line[22:26])\n",
    "                            current_index += 1\n",
    "                            line = line[:22] + \"{:>4}\".format(current_index+1) + line[26:]\n",
    "                        else:\n",
    "                            line = line[:22] + \"{:>4}\".format(current_index+1) + line[26:]\n",
    "                \n",
    "                g.write(line)\n",
    "            else:\n",
    "                g.write(line)"
   ]
  },
  {
   "cell_type": "code",
   "execution_count": null,
   "id": "826f0ed2",
   "metadata": {},
   "outputs": [],
   "source": [
    "view = ngl.show_structure_file(\"supercell_no_chains_renumbered.pdb\")\n",
    "view.clear_representations()\n",
    "view.add_cartoon(\"protein\")\n",
    "view.add_ball_and_stick(\"not protein\")\n",
    "view.camera=\"orthographic\"\n",
    "view"
   ]
  },
  {
   "cell_type": "markdown",
   "id": "4e721570",
   "metadata": {},
   "source": [
    "### Solvent modeling\n",
    "\n",
    "Now, we're going to use gromacs tools to solvate and neutralize the system:\n",
    "\n",
    "`gmx editconf` creates a simulation box from the postprocessed supercell model. The command below specifies the box dimensions for a 2x2x2 supercell in nanometer units, based on the unit cell dimensions in the PDB CRYST1 record.\n",
    "\n",
    "`gmx solvate` adds waters to the system using pre-prepared small boxes of water that are tiled to cover the simulation box and then waters are culled if they overlap with waters already in the system.\n",
    "\n",
    "The flags are:\n",
    "\n",
    "`-cp` the protein structure (`.gro`) file\n",
    "\n",
    "`-cs` the water type to tile the box with\n",
    "\n",
    "`-p` the topology (`.top`) file"
   ]
  },
  {
   "cell_type": "code",
   "execution_count": null,
   "id": "6e972e69",
   "metadata": {},
   "outputs": [],
   "source": [
    "!gmx editconf -f supercell_no_chains_renumbered.pdb -o supercell_corrected_box.gro -box 9.6998 9.6998 12.686 -angles 90 90 90 -noc\n",
    "!gmx solvate -cp supercell_corrected_box.gro -cs spc216.gro -p supercell.top -o supercell_solvated.gro"
   ]
  },
  {
   "cell_type": "code",
   "execution_count": null,
   "id": "f99c9953",
   "metadata": {},
   "outputs": [],
   "source": [
    "cell = pmd.load_file(\"supercell_solvated.gro\")\n",
    "view = ngl.show_parmed(cell)\n",
    "view.clear_representations()\n",
    "view.add_cartoon(\"protein\")\n",
    "view.add_ball_and_stick(\"water\", opacity=0.5)\n",
    "view.add_licorice(\"not protein and not water\")\n",
    "view.camera = \"orthographic\"\n",
    "view"
   ]
  },
  {
   "cell_type": "markdown",
   "id": "b87a520b",
   "metadata": {},
   "source": [
    "Looks good!\n",
    "\n",
    "Notice that the proteins extend out of the box, while the waters are contained within the box.\n",
    "\n",
    "This is a consequence of the periodic boundary conditions (PBCs). The computer treats each edge of the box as equivalent to its opposite edge, and everything that extends beyond the edge of the box is wrapped around to the inside of the other side of the box, like exiting the edge of the screen in PacMan and appearing on the other side. So, from the perspective of `GROMACS`, every atom in the system will exist within the box, just like the waters, they'll just be wrapped around according to the PBCs.\n",
    "\n",
    "There's only one more step that we need to take care of before we start the energy minimization process: neutralizing the system with ions.\n",
    "\n",
    "We'll do this with `gmx grompp` and `gmx genion`.\n",
    "\n",
    "`grompp` is the `GROMACS` \"pre-processor\", it takes in the structure (`.gro`) and topology (`.top`) files and outputs a `.tpr` file. These files are binary run input files that we'll construct again before we head in to simulation. The reason we need one now is that `GROMACS` needs to analyze the eletrostatics of the system to place ions in an intelligent way! \n",
    "\n",
    "`genion` is going to replace water molecules in the system with ions, but if it places ions too close to charged atoms in the system, the system could be too high energy when we place it in to minimization.\n",
    "\n",
    "The arguments to grompp are:\n",
    "\n",
    "`-f`: \"molecular dynamics parameter\" (`.mdp`) file specifying the type of simulation (in this case, the file is really a dummy file, because we're not really simulating anything)\n",
    "\n",
    "`-c`: the structure (.gro) file\n",
    "\n",
    "`-p`: the topology (.top) file\n",
    "\n",
    "`-o`: the name of the binary run input (.tpr) file\n",
    "\n",
    "The arguments to genion are:\n",
    "\n",
    "`-s`: the binary run input (.tpr) file\n",
    "\n",
    "`-p`: the topology (.top) file\n",
    "\n",
    "`-o`: the name of the output structure (.gro) file\n",
    "\n",
    "`-neutral` specifying that we want to neutralize the system with ions\n",
    "\n",
    "`-rmin`: allows us to reset the minimum distance between added groups (it will fail if we don't add this because it thinks the ions are too close together, but as you'll see it's fine)."
   ]
  },
  {
   "cell_type": "code",
   "execution_count": null,
   "id": "8ba34d8e",
   "metadata": {},
   "outputs": [],
   "source": [
    "%%capture\n",
    "!gmx grompp -f mdp_files/ions.mdp -c supercell_solvated.gro -p supercell.top -o ions.tpr -maxwarn 5"
   ]
  },
  {
   "cell_type": "code",
   "execution_count": null,
   "id": "c9721e28",
   "metadata": {},
   "outputs": [],
   "source": [
    "%%capture\n",
    "!echo 17 | gmx genion -s ions.tpr -p supercell.top -o supercell_solvated_neutral.gro -neutral -rmin 0.4"
   ]
  },
  {
   "cell_type": "markdown",
   "id": "071e1de1",
   "metadata": {},
   "source": [
    "Let's see it:"
   ]
  },
  {
   "cell_type": "code",
   "execution_count": null,
   "id": "24d2e5a2",
   "metadata": {},
   "outputs": [],
   "source": [
    "cell = pmd.load_file(\"supercell_solvated_neutral.gro\")\n",
    "view = ngl.show_parmed(cell)\n",
    "view.clear_representations()\n",
    "view.add_cartoon(\"protein\")\n",
    "view.add_ball_and_stick(\"water\", opacity=0.5)\n",
    "view.add_spacefill(\"name CL\")\n",
    "view.add_licorice(\"not protein and not water\")\n",
    "view.camera = \"orthographic\"\n",
    "view"
   ]
  },
  {
   "cell_type": "markdown",
   "id": "a210bfb3",
   "metadata": {},
   "source": [
    "### Minimization\n",
    "\n",
    "The `.mdp` files specify the parameters for simulation. Check them out in the `mdp_files` folder.\n",
    "\n",
    "Here's what ours looks like for minimization:\n",
    "\n",
    "`min.mdp`\n",
    "\n",
    "```\n",
    "; Parameters describing what to do, when to stop and what to save\n",
    "integrator  = steep         ; Algorithm (steep = steepest descent minimization)\n",
    "emtol       = 1000.0        ; Stop minimization when the maximum force < 1000.0 kJ/mol/nm\n",
    "emstep      = 0.01          ; Minimization step size\n",
    "nsteps      = 10000          ; Maximum number of (minimization) steps to perform\n",
    "\n",
    "; Parameters describing how to find the neighbors of each atom and how to calculate the interactions\n",
    "nstlist         = 1         ; Frequency to update the neighbor list and long range forces\n",
    "cutoff-scheme   = Verlet    ; Buffered neighbor searching\n",
    "ns_type         = grid      ; Method to determine neighbor list (simple, grid)\n",
    "coulombtype     = PME       ; Treatment of long range electrostatic interactions\n",
    "rcoulomb        = 1.0       ; Short-range electrostatic cut-off\n",
    "rvdw            = 1.0       ; Short-range Van der Waals cut-off\n",
    "pbc             = xyz       ; Periodic Boundary Conditions in all 3 dimensions\n",
    "```\n",
    "\n",
    "The important bits here are the `integrator` and `nsteps` parameters. Our selections say to do 1000 steps of minimizaiton with the steepest descent algorithm.\n",
    "\n",
    "`gmx grompp` takes in the `.mdp` file (`-f`), the starting coordiantes file (`-c`), the topology file (`-p`) and the output file name (`-o`) which will be a (`.tpr`) file with everything necessary to run the minimization.\n",
    "\n",
    "`gmx mdrun` runs the minimization, with the `.tpr` file as input (`-s`) and a `-deffnm` flag setting the filenames for all the output files."
   ]
  },
  {
   "cell_type": "code",
   "execution_count": null,
   "id": "f183e95e",
   "metadata": {},
   "outputs": [],
   "source": [
    "%%capture\n",
    "!gmx grompp -f mdp_files/min.mdp -c supercell_solvated_neutral.gro -p supercell.top -o min_1.tpr -maxwarn 2"
   ]
  },
  {
   "cell_type": "code",
   "execution_count": null,
   "id": "a3c59644",
   "metadata": {},
   "outputs": [],
   "source": [
    "!gmx mdrun -s min_1.tpr -deffnm min_1"
   ]
  },
  {
   "cell_type": "markdown",
   "id": "1fe81115",
   "metadata": {},
   "source": [
    "To keep things tidy, we'll make a `minimization_1` directory (`mkdir`), into which we'll move (`mv`) all of the files from this minimizaiton (`min_1.*`)."
   ]
  },
  {
   "cell_type": "code",
   "execution_count": null,
   "id": "a0a351dd",
   "metadata": {},
   "outputs": [],
   "source": [
    "!mkdir minimization_1; mv min_1.* minimization_1"
   ]
  },
  {
   "cell_type": "markdown",
   "id": "740c0562",
   "metadata": {},
   "source": [
    "Now we use `GROMACS`s `energy` function to get the potential energy for our minimization.\n",
    "\n",
    "The `echo 11` passed to the `gmx energy` call tells `GROMACS` we want to select option 11 for the data output (the Potential). \n",
    "\n",
    "If you were running these commands yourself, you could just run the command from `gmx energy ...` on and you could interactively select the data output yourself to get any info you want."
   ]
  },
  {
   "cell_type": "code",
   "execution_count": null,
   "id": "8c755d98",
   "metadata": {},
   "outputs": [],
   "source": [
    "!echo 11 | gmx energy -f minimization_1/min_1.edr -o energy_1.xvg\n",
    "!mv energy_1.xvg minimization_1"
   ]
  },
  {
   "cell_type": "markdown",
   "id": "562d3118",
   "metadata": {},
   "source": [
    "We'll plot the data with `matplotlib`, `python`'s standard plotting software, after a bit of data processing to get everything in a python friendly format."
   ]
  },
  {
   "cell_type": "code",
   "execution_count": null,
   "id": "9ef69130",
   "metadata": {},
   "outputs": [],
   "source": [
    "import matplotlib.pyplot as plt"
   ]
  },
  {
   "cell_type": "code",
   "execution_count": null,
   "id": "267d7723",
   "metadata": {},
   "outputs": [],
   "source": [
    "def get_data_from_xvg(filename):\n",
    "    ''' helper function for getting data from .xvg files\n",
    "    '''\n",
    "    with open(filename) as f:\n",
    "        x = []; y = []\n",
    "        for line in f.readlines():\n",
    "            # ignore the header lines with first character @ or #\n",
    "            if line[0] not in [\"#\", \"@\"]:\n",
    "                x.append(float(line.split()[0]))\n",
    "                y.append(float(line.split()[1]))\n",
    "    \n",
    "    return np.array(x), np.array(y)"
   ]
  },
  {
   "cell_type": "code",
   "execution_count": null,
   "id": "f91de498",
   "metadata": {},
   "outputs": [],
   "source": [
    "t, E = get_data_from_xvg(\"minimization_1/energy_1.xvg\")\n",
    "plt.plot(t, E);\n",
    "plt.xlabel(\"Timestep\");\n",
    "plt.ylabel(\"Potential Energy (kJ/mol)\");"
   ]
  },
  {
   "cell_type": "markdown",
   "id": "de31ee44",
   "metadata": {},
   "source": [
    "What's happening here is the energy is enormous to start (note the scale on the y-axis) thanks to unfavorable interactions between the added solvent and ions and the protein, so it drops rapidly thanks to the steepest descent minimization.\n",
    "\n",
    "To get a better sense for what's going on, we can plot things using the \"symmetric log\" scale for the y-axis, which converts things to the log-scale, converting nevative values (with undefined logarithm) to positive values, calculating the log, and then multiplying them by -1 again."
   ]
  },
  {
   "cell_type": "code",
   "execution_count": null,
   "id": "12355203",
   "metadata": {},
   "outputs": [],
   "source": [
    "plt.plot(t, E);\n",
    "plt.yscale(\"symlog\")\n",
    "plt.xlabel(\"Timestep\");\n",
    "plt.ylabel(\"Potential Energy (kJ/mol)\");"
   ]
  },
  {
   "cell_type": "markdown",
   "id": "4e794879",
   "metadata": {},
   "source": [
    "We can see that the energy seems to plateau at somehwere around $10^{-6}$ on the log scale. But we can't really see what's happening around the plateau.\n",
    "\n",
    "To get a better sense for what's happening in our minimization, we can plot the _absolute change_ in the energy from step to step, during minimization, on the log scale:"
   ]
  },
  {
   "cell_type": "code",
   "execution_count": null,
   "id": "9dede7c0",
   "metadata": {},
   "outputs": [],
   "source": [
    "def dE(time,energy):\n",
    "    ''' helper function for getting changes in energy in absolute terms\n",
    "    '''\n",
    "    dE = []\n",
    "    for i in range(len(t)-1):\n",
    "        dE.append(energy[i+1]-energy[i])\n",
    "        \n",
    "    return t[1:], [abs(E) for E in dE] "
   ]
  },
  {
   "cell_type": "code",
   "execution_count": null,
   "id": "853c58fc",
   "metadata": {},
   "outputs": [],
   "source": [
    "plt.semilogy(dE(t,E)[0], dE(t,E)[1])\n",
    "plt.xlabel(\"Timestep\");\n",
    "plt.ylabel(\"Absolute change in potential energy (kJ/mol)\");\n",
    "print(\"Average abs change in energy for the last 50 steps: {} kJ/mol\".format(np.mean(dE(t,E)[-1][-50:])))"
   ]
  },
  {
   "cell_type": "markdown",
   "id": "8dc2bc28",
   "metadata": {},
   "source": [
    "Now, we can see that, over the course of minimization, the _changes_ in energy have plateaud to somewhere around 100 kJ/mol from step to step. \n",
    "\n",
    "With the potential energy plateauing over the course of the minimization, and the 1000 kJ/mol/nm force tolerance condition in the .mdp file satisfied, we can be confident moving forward."
   ]
  },
  {
   "cell_type": "markdown",
   "id": "2c3c062f",
   "metadata": {},
   "source": [
    "### Adjusting the pressure via iterative solvation and equilibration\n",
    "\n",
    "Now we're going to do our first bits of actual molecular-dynamics simulation.\n",
    "\n",
    "Take a look at the `equil.mdp` file in the `mdp_files` directory to see the parameters we set for this, but the important bits are:\n",
    "\n",
    "`define = -DPOSRES`: puts restraints on the protein, ligand, and ions (all set to 1000 kJ/(moln m^2))\n",
    "\n",
    "`integrator = md`: use the leap-frog numerical integration algorithm\n",
    "\n",
    "`nsteps = 500`: do 500 total steps of simulation (500 steps * 0.002 fs/step = 1 ps)\n",
    "\n",
    "`dt = 0.002`: each with a time step of 2 fs (base units are ps)\n",
    "\n",
    "`nstxout`, `nstenergy`, etc `= 5`: sets the number of steps to wait before outputting coordinate and energy (etc.) information in their own respective files (in our case, 5 steps, so output every 10 fs (0.01 ps)\n",
    "\n",
    "The only new argument to grompp here is the `-r` which specfifies the coordinate file to use for the target for restraints. \n",
    "\n",
    "Here's we'll just use the solvated, neutralized crystal structure (`supercell_solvated_neutral.gro`). \n",
    "\n",
    "Always be sure this file has the same number of atoms as the coordiante file. Even if the number of atoms in the actually restrained part is the same, if there's a differnt number of solvent atoms, `GROMACS` will complain."
   ]
  },
  {
   "cell_type": "code",
   "execution_count": null,
   "id": "2a5ab66e",
   "metadata": {},
   "outputs": [],
   "source": [
    "%%capture\n",
    "!gmx grompp -f mdp_files/equil.mdp -c minimization_1/min_1.gro -p supercell.top -r supercell_solvated_neutral.gro -o equil_1.tpr -maxwarn 2"
   ]
  },
  {
   "cell_type": "code",
   "execution_count": null,
   "id": "a2b451ea",
   "metadata": {},
   "outputs": [],
   "source": [
    "!gmx mdrun -s equil_1.tpr -deffnm equil_1"
   ]
  },
  {
   "cell_type": "code",
   "execution_count": null,
   "id": "79d99b57",
   "metadata": {},
   "outputs": [],
   "source": [
    "!mkdir equilibration_1; mv equil_1.* equilibration_1"
   ]
  },
  {
   "cell_type": "markdown",
   "id": "5b05b40e",
   "metadata": {},
   "source": [
    "We use `gmx energy` again, this time feeding in the selection `19` for the pressure."
   ]
  },
  {
   "cell_type": "code",
   "execution_count": null,
   "id": "b6de3efd",
   "metadata": {},
   "outputs": [],
   "source": [
    "!echo 19 | gmx energy -f equilibration_1/equil_1.edr -o equil_pressure_1.xvg\n",
    "!mv equil_pressure_1.xvg equilibration_1"
   ]
  },
  {
   "cell_type": "code",
   "execution_count": null,
   "id": "2b205f1e",
   "metadata": {},
   "outputs": [],
   "source": [
    "def get_mean_and_std_error(T,P):\n",
    "    ''' helper funciton for getting the mean and standard error\n",
    "    '''\n",
    "    std_error = []\n",
    "    mean = []\n",
    "    for i in range(len(T)-1):\n",
    "        mean.append(np.mean(P[:i+1]))\n",
    "        std_error.append(np.std(P[:i+1])/np.sqrt(i+1))\n",
    "    \n",
    "    return np.array(mean), np.array(std_error)"
   ]
  },
  {
   "cell_type": "code",
   "execution_count": null,
   "id": "cc319d50",
   "metadata": {},
   "outputs": [],
   "source": [
    "t, p1 = get_data_from_xvg(\"equilibration_1/equil_pressure_1.xvg\")\n",
    "mean1, std_e1 = get_mean_and_std_error(t, p1)\n",
    "plt.plot(t,p1)\n",
    "plt.plot(t[1:], mean1, color=\"Red\", alpha=0.5, label=\"Average +/- Std. Err.\")\n",
    "plt.fill_between(t[1:], mean1-std_e1, mean1+std_e1, color=\"Red\", alpha=0.1)\n",
    "plt.legend()\n",
    "plt.xlabel(\"Time (ps)\")\n",
    "plt.ylabel(\"Pressure (bar)\")\n",
    "print(\"Final Pressure Estimate: {:.2f} +/- {:.2f} bar\".format(mean1[-1], std_e1[-1]))"
   ]
  },
  {
   "cell_type": "markdown",
   "id": "410c4b92",
   "metadata": {},
   "source": [
    "Negative pressure indicates that there's not enough solvent. We need to add more solvent to bring the pressure up.\n",
    "\n",
    "In normal simulations, we would use the NPT ensemble (constant number of particles, pressure, and temperature), keeping the pressure constant with a barostat by changing the box size (decreasing to increase pressure, increasing to decrease pressure). Here, though, we wish to use the NVT ensemble, with constant volume, to match the crystal structure for calculations of diffraction. This means we need to get the pressure up to atmospheric pressure on our own. We accomplish this by adding more waters.\n",
    "\n",
    "### Adding additional solvent"
   ]
  },
  {
   "cell_type": "code",
   "execution_count": null,
   "id": "1646ec92",
   "metadata": {},
   "outputs": [],
   "source": [
    "!cp supercell.top supercell_2.top\n",
    "!gmx solvate -cp equilibration_1/equil_1.gro -cs spc216.gro -p supercell_2.top -o supercell_solvated_neutral_2.gro"
   ]
  },
  {
   "cell_type": "code",
   "execution_count": null,
   "id": "ded0e0a1",
   "metadata": {},
   "outputs": [],
   "source": [
    "%%capture\n",
    "!gmx grompp -f mdp_files/min.mdp -c supercell_solvated_neutral_2.gro -p supercell_2.top -o min_2.tpr -maxwarn 2"
   ]
  },
  {
   "cell_type": "code",
   "execution_count": null,
   "id": "b623ae81",
   "metadata": {},
   "outputs": [],
   "source": [
    "!gmx mdrun -s min_2.tpr -deffnm min_2"
   ]
  },
  {
   "cell_type": "code",
   "execution_count": null,
   "id": "ec191bcd",
   "metadata": {},
   "outputs": [],
   "source": [
    "!mkdir minimization_2; mv min_2.* minimization_2"
   ]
  },
  {
   "cell_type": "code",
   "execution_count": null,
   "id": "57d238e7",
   "metadata": {},
   "outputs": [],
   "source": [
    "!echo 11 | gmx energy -f minimization_2/min_2.edr -o energy_2.xvg\n",
    "!mv energy_2.xvg minimization_2"
   ]
  },
  {
   "cell_type": "code",
   "execution_count": null,
   "id": "e7bfa62d",
   "metadata": {},
   "outputs": [],
   "source": [
    "t, E = get_data_from_xvg(\"minimization_2/energy_2.xvg\")\n",
    "plt.plot(t, E);\n",
    "plt.xlabel(\"Timestep\");\n",
    "plt.ylabel(\"Potential Energy (kJ/mol)\");"
   ]
  },
  {
   "cell_type": "code",
   "execution_count": null,
   "id": "1886e71c",
   "metadata": {},
   "outputs": [],
   "source": [
    "plt.semilogy(dE(t,E)[0], dE(t,E)[1]);\n",
    "plt.xlabel(\"Timestep\");\n",
    "plt.ylabel(\"Absolute change in potential energy (kJ/mol)\");\n",
    "print(\"Average abs change in energy for the last 50 steps: {} kJ/mol\".format(np.mean(dE(t,E)[-1][-50:])))"
   ]
  },
  {
   "cell_type": "code",
   "execution_count": null,
   "id": "8361c83e",
   "metadata": {},
   "outputs": [],
   "source": [
    "%%capture\n",
    "!gmx grompp -f mdp_files/equil.mdp -c minimization_2/min_2.gro -p supercell_2.top -r supercell_solvated_neutral_2.gro -o equil_2.tpr -maxwarn 2\n",
    "!gmx mdrun -s equil_2.tpr -deffnm equil_2"
   ]
  },
  {
   "cell_type": "code",
   "execution_count": null,
   "id": "02890712",
   "metadata": {},
   "outputs": [],
   "source": [
    "!mkdir equilibration_2; mv equil_2.* equilibration_2"
   ]
  },
  {
   "cell_type": "code",
   "execution_count": null,
   "id": "a8883ef4",
   "metadata": {},
   "outputs": [],
   "source": [
    "!echo 19 | gmx energy -f equilibration_2/equil_2.edr -o equil_pressure_2.xvg\n",
    "!mv equil_pressure_2.xvg equilibration_2"
   ]
  },
  {
   "cell_type": "code",
   "execution_count": null,
   "id": "2a328086",
   "metadata": {},
   "outputs": [],
   "source": [
    "t, p2 = get_data_from_xvg(\"equilibration_2/equil_pressure_2.xvg\")\n",
    "mean2, std_e2 = get_mean_and_std_error(t, p2)\n",
    "plt.plot(t,p2)\n",
    "plt.plot(t[1:], mean2, color=\"Red\", alpha=0.5, label=\"Average +/- Std. Err.\")\n",
    "plt.legend();\n",
    "plt.fill_between(t[1:], mean2-std_e2, mean2+std_e2, color=\"Red\", alpha=0.1)\n",
    "plt.xlabel(\"Time (ps)\");\n",
    "plt.ylabel(\"Pressure (bar)\");\n",
    "print(\"Final Pressure Estimate: {:.2f} +/- {:.2f} bar\".format(mean2[-1], std_e2[-1]))"
   ]
  },
  {
   "cell_type": "markdown",
   "id": "eae8a168",
   "metadata": {},
   "source": [
    "## Now we're close!\n",
    "\n",
    "In practice, you want longer minimizations (e.g. 5000-10,000 steps) and longer equilibrations (e.g. 10-100 ps) just to make sure everything is stable. But you can get the idea for what we're going even with these short runs.\n",
    "\n",
    "You basically want to add or remove solvent until the pressure has reached about 1 bar, using the average pressure during successive equlibrations as a guide.\n",
    "\n",
    "We can find an estimate for the number of waters to add to bring us to 1 bar by linear interpolation:\n",
    "\n",
    "$P = \\frac{P_{2}-P_{1}}{N_{w,2}-N_{w,1}} \\ \\mathrm{d}N_{w} + P_{1}$\n",
    "\n",
    "where $dN_{w}$ is the change in the number of total waters from the starting number. \n",
    "\n",
    "We want to set $P$ to 1 and solve for $N_{w}$ to get an estimate for how many waters to add or subtract in our next run.\n",
    "\n",
    "$ 1 = \\frac{P_{2}-P_{1}}{N_{w,2}-N_{w,1}} \\ \\mathrm{d}N_{w} + P_{1} \\rightarrow 1 - P_{1} = \\frac{P_{2}-P_{1}}{N_{w,2}-N_{w,1}} \\ \\mathrm{d}N_{w} $ \n",
    "\n",
    "$ \\mathrm{d}N_{w} = \\frac{(1 - P_{1})(N_{w,2}-N_{w,1})}{(P_{2}-P_{1})} $\n",
    "\n",
    "In our case, we added too many: if you plug in all the numbers, we get:"
   ]
  },
  {
   "cell_type": "code",
   "execution_count": null,
   "id": "1338de0a",
   "metadata": {},
   "outputs": [],
   "source": [
    "P1 = mean1[-1]\n",
    "P2 = mean2[-1]\n",
    "\n",
    "def get_num_waters(gro_file):\n",
    "    with open(gro_file, 'r') as f:\n",
    "        wat_atoms = 0\n",
    "        for line in f.readlines():\n",
    "            if \"SOL\" in line:\n",
    "                wat_atoms += 1\n",
    "                \n",
    "    return int(wat_atoms/3)\n",
    "\n",
    "Nw1 = get_num_waters(\"supercell_solvated_neutral.gro\")\n",
    "Nw2 = get_num_waters(\"supercell_solvated_neutral_2.gro\")\n",
    "\n",
    "dNw = int(((1-P1)*(Nw2-Nw1))/(P2-P1))\n",
    "\n",
    "print(\"Total waters we need to add to the original solvated supercell: {}\".format(dNw))"
   ]
  },
  {
   "cell_type": "markdown",
   "id": "84a4e4d4",
   "metadata": {},
   "source": [
    "We keep doing this iterative process until the pressure +/- standard error is in the range (-100,100) bar. Then we're ready for production simulation!"
   ]
  },
  {
   "cell_type": "code",
   "execution_count": null,
   "id": "7557d8e7",
   "metadata": {},
   "outputs": [],
   "source": [
    "!mv supercell_2.top equilibration_2\n",
    "!cp supercell.top supercell_2.top\n",
    "!gmx solvate -cp equilibration_1/equil_1.gro -cs spc216.gro -p supercell_2.top -o supercell_solvated_neutral_2.gro -maxsol {dNw}"
   ]
  },
  {
   "cell_type": "code",
   "execution_count": null,
   "id": "b99cf920",
   "metadata": {},
   "outputs": [],
   "source": [
    "%%capture\n",
    "!gmx grompp -f mdp_files/min.mdp -c supercell_solvated_neutral_2.gro -p supercell_2.top -o min_3.tpr -maxwarn 2"
   ]
  },
  {
   "cell_type": "code",
   "execution_count": null,
   "id": "f1c09e96",
   "metadata": {},
   "outputs": [],
   "source": [
    "!gmx mdrun -s min_3.tpr -deffnm min_3"
   ]
  },
  {
   "cell_type": "code",
   "execution_count": null,
   "id": "722e8dab",
   "metadata": {},
   "outputs": [],
   "source": [
    "!mkdir minimization_3; mv min_3.* minimization_3"
   ]
  },
  {
   "cell_type": "code",
   "execution_count": null,
   "id": "09960e66",
   "metadata": {},
   "outputs": [],
   "source": [
    "!echo 11 | gmx energy -f minimization_3/min_3.edr -o energy_3.xvg\n",
    "!mv energy_3.xvg minimization_3"
   ]
  },
  {
   "cell_type": "code",
   "execution_count": null,
   "id": "7c512ec5",
   "metadata": {},
   "outputs": [],
   "source": [
    "t, E = get_data_from_xvg(\"minimization_3/energy_3.xvg\")\n",
    "plt.plot(t, E);\n",
    "plt.xlabel(\"Timestep\");\n",
    "plt.ylabel(\"Potential Energy (kJ/mol)\");"
   ]
  },
  {
   "cell_type": "code",
   "execution_count": null,
   "id": "b7c44540",
   "metadata": {},
   "outputs": [],
   "source": [
    "plt.semilogy(dE(t,E)[0], dE(t,E)[1]);\n",
    "plt.xlabel(\"Timestep\");\n",
    "plt.ylabel(\"Absolute change in potential energy (kJ/mol)\");\n",
    "print(\"Average abs change in energy for the last 50 steps: {} kJ/mol\".format(np.mean(dE(t,E)[-1][-50:])))"
   ]
  },
  {
   "cell_type": "code",
   "execution_count": null,
   "id": "0efbc2eb",
   "metadata": {},
   "outputs": [],
   "source": [
    "%%capture\n",
    "!gmx grompp -f mdp_files/equil.mdp -c minimization_3/min_3.gro -p supercell_2.top -r supercell_solvated_neutral_2.gro -o equil_3.tpr -maxwarn 2\n",
    "!gmx mdrun -s equil_3.tpr -deffnm equil_3"
   ]
  },
  {
   "cell_type": "code",
   "execution_count": null,
   "id": "1cc8217c",
   "metadata": {},
   "outputs": [],
   "source": [
    "!mkdir equilibration_3; mv equil_3.* equilibration_3"
   ]
  },
  {
   "cell_type": "code",
   "execution_count": null,
   "id": "bbef4703",
   "metadata": {},
   "outputs": [],
   "source": [
    "!echo 19 | gmx energy -f equilibration_3/equil_3.edr -o equil_pressure_3.xvg\n",
    "!mv equil_pressure_3.xvg equilibration_3"
   ]
  },
  {
   "cell_type": "code",
   "execution_count": null,
   "id": "47e756bf",
   "metadata": {},
   "outputs": [],
   "source": [
    "t, p2 = get_data_from_xvg(\"equilibration_3/equil_pressure_3.xvg\")\n",
    "mean2, std_e2 = get_mean_and_std_error(t, p2)\n",
    "plt.axhline(0, ls=\":\",c=\"k\",alpha=0.5)\n",
    "plt.plot(t,p2)\n",
    "plt.plot(t[1:], mean2, color=\"Red\", alpha=0.5, label=\"Average +/- Std. Err.\")\n",
    "plt.legend();\n",
    "plt.fill_between(t[1:], mean2-std_e2, mean2+std_e2, color=\"Red\", alpha=0.1)\n",
    "plt.xlabel(\"Time (ps)\");\n",
    "plt.ylabel(\"Pressure (bar)\");\n",
    "print(\"Final Pressure Estimate: {:.2f} +/- {:.2f} bar\".format(mean2[-1], std_e2[-1]))"
   ]
  },
  {
   "cell_type": "markdown",
   "id": "64898c32",
   "metadata": {},
   "source": [
    "### The trajectory\n",
    "\n",
    "gmx `trjconv` converts the `.trr` trajectory file to another `.trr` trajectory file, but with the molecules mapped back, according to the periodic boundary conditions, so that the molecules are kept whole (`-pbc mol`). Note that `gmx trjconv` can also be used to convert the trajectory to (or between) files in the `.xtc` format as well (which is compressed, and so the files are much smaller than the `.trr` file format). The `.xtc` format does not include velocities, just coordinates, whereas the `.trr` format contains both."
   ]
  },
  {
   "cell_type": "code",
   "execution_count": null,
   "id": "78ec9dfb",
   "metadata": {},
   "outputs": [],
   "source": [
    "!echo 0 | gmx trjconv -f equilibration_3/equil_3.xtc -s equilibration_3/equil_3.tpr -o equil_3_mol.xtc -pbc mol\n",
    "!mv equil_3_mol.xtc equilibration_3"
   ]
  },
  {
   "cell_type": "code",
   "execution_count": null,
   "id": "0d5e9740",
   "metadata": {},
   "outputs": [],
   "source": [
    "import mdtraj as md\n",
    "### DON'T DO THIS IN GENERAL WE JUST DON'T CARE ABOUT THE WARNINGS IN THIS CASE\n",
    "import warnings\n",
    "warnings.filterwarnings('ignore')\n",
    "###############################################################################\n",
    "traj = md.load(\"./equilibration_3/equil_3_mol.xtc\", top=\"./supercell_solvated_neutral_2.gro\")"
   ]
  },
  {
   "cell_type": "code",
   "execution_count": null,
   "id": "fb6c4e5b",
   "metadata": {},
   "outputs": [],
   "source": [
    "traj_view = ngl.show_mdtraj(traj)\n",
    "traj_view.clear_representations()\n",
    "traj_view.add_cartoon(\"protein\")\n",
    "traj_view.add_ball_and_stick(\"water\", opacity=0.5)\n",
    "traj_view.add_spacefill(\"name CL\", color=\"yellow\")\n",
    "traj_view.add_point(\"not protein and not water and not name CL\")\n",
    "traj_view.camera = \"orthographic\"\n",
    "traj_view"
   ]
  },
  {
   "cell_type": "markdown",
   "id": "728fae79",
   "metadata": {},
   "source": [
    "## Production\n",
    "\n",
    "Now we're ready for production. We had the restraints set to the default of 1000 kJ/(mol nm^2) for all of equilibration, but for production one might want to decrease the restraint strength or eliminate the restraints entirely. To eliminate the restraints entirely, one would want to delete or comment out (with `;`) the following line in the `prod.mdp` file:\n",
    "\n",
    "```define                  = -DPOSRES              ; position restrain the protein```\n",
    "\n",
    "Here's why:\n",
    "\n",
    "When `define` is set to `-DPOSRES`, `GROMACS` looks for the following statement in the `supercell_2.top` file (or the `.itp` files referenced therein -- in our case `protein_Protein.itp`):\n",
    "\n",
    "```\n",
    "; Include Position restraint file\n",
    "#ifdef POSRES\n",
    "#include \"posre_Protein.itp\"\n",
    "#endif\n",
    "```\n",
    "\n",
    "This statement tells `GROMACS` to `include` the information in the file `posre_Protein.itp` for restraints.\n",
    "\n",
    "`posre_Protein.itp` was created by `pdb2gmx`, and defines the atoms (be index) to be restrained, the restraint type, and the force constant for the restraints, in units of kJ/(mol nm^2). `pdb2gmx` defines restraints by default on all heavy atoms (which is why there are gaps in the atom indices -- the restraints are not applied to hydrogens):\n",
    "\n",
    "```\n",
    "[ position_restraints ]\n",
    "; atom  type      fx      fy      fz   \n",
    "     1     1  1000  1000  1000 \n",
    "     5     1  1000  1000  1000 \n",
    "     7     1  1000  1000  1000 \n",
    "    10     1  1000  1000  1000 \n",
    "    13     1  1000  1000  1000 \n",
    "    ...\n",
    "```\n",
    "\n",
    "Type 1 restraints are simple harmonic restraints (the atoms are restrained to the positions in the reference structure by harmonic bonds, with the associated strengths in each direction). The reference structure is defined by the `-r` flag to `gmx grompp`, and for equilibration we've been using `supercell_solvated_neutral_2.gro`, which is the original propagated crystal structure after solvation and neutralization (before minimization). One can use any structure as a reference so long as the structure file has the same number of atoms as the system being simulated, but for crystalline MD simulations, restraints are often done with reference to the (propagated) crystal structure.\n",
    "\n",
    "To generate a new set of restraints one can either edit the `posre_Protein.itp` file, changing 1000 to whatever restraint constant one wishes, or one can use the the built-in gromacs command `genrestr`.\n",
    "\n",
    "In our setup here, `pdb2gmx` was used to generate the topology for the file `protein_calcium_amber.pdb` which contained only the protein and calcium ions, and then the `pdTp.itp` parameter file for the ligand was added to the full system `protein.top` file, creating the `supercell.top`, which was edited to reflect the fact that there are 32 copies of the Protein, calcium (with the `[ moleculetype ]` record `Ion2` in the topology file), and the ligand (with the `[ moleculetype ]` `LIG` in the topology file). \n",
    "\n",
    "The easiest way for us to generate a new set of restraints is for us to work with the same `protein_calcium_amber.pdb` file, and output a new `posre_Protein_weaker.itp` file using `gmx genrestr` (selecting only heavy atoms with the selection `Protein-H`):"
   ]
  },
  {
   "cell_type": "code",
   "execution_count": null,
   "id": "dc7bc78b",
   "metadata": {},
   "outputs": [],
   "source": [
    "!echo \"Protein-H\" | gmx genrestr -f protein_calcium_amber.pdb -o posre_Protein_weaker.itp -fc 200 200 200"
   ]
  },
  {
   "cell_type": "markdown",
   "id": "f247bf69",
   "metadata": {},
   "source": [
    "Now we add a block to the protein_Protein.itp file that includes the new 200 kJ/mol nm^2 restraints if requested using, say, by defining a POSRES_WEAKER macro."
   ]
  },
  {
   "cell_type": "code",
   "execution_count": null,
   "id": "1f55c54f",
   "metadata": {},
   "outputs": [],
   "source": [
    "!echo -e '; Include weaker restraints\\n#ifdef POSRES_WEAKER\\n#include \"posre_Protein_weaker.itp\"\\n#endif' >> protein_Protein.itp\n",
    "!tail protein_Protein.itp"
   ]
  },
  {
   "cell_type": "markdown",
   "id": "99a9cfc5",
   "metadata": {},
   "source": [
    "The `prot.mdp` file for production simulations included in the `mdp_files` directory uses these weaker restraints "
   ]
  },
  {
   "cell_type": "code",
   "execution_count": null,
   "id": "35249c40",
   "metadata": {},
   "outputs": [],
   "source": [
    "!grep POSRES_WEAKER mdp_files/prod.mdp "
   ]
  },
  {
   "cell_type": "markdown",
   "id": "b29f0ea5",
   "metadata": {},
   "source": [
    "This line may also be commented out using a leading \"`;`\" if simulations without restraints are desired.\n",
    "\n",
    "Defining macros to control the use of different strength restraints can be useful if one wishes to apply successively weaker restraints, without having to edit the topology file each time -- simply define a variety of `#ifdef` conditions, and then call them in the `.mdp` file with the `define` parameters whenever they are appropriate.\n",
    "\n",
    "---\n",
    "\n",
    "Production is now carried out in the same way we carried out equilibration, but now specifying the `prod.mdp` file defining the parameteres for production simulation rather than equilibration (you can uncomment the following code block to simulate a production trajectory, but note that the equilibration was running at about 5ns on our local machines used for testing, so a 100 ns trajectory would take about 20 days to run -- to change the length of simulation, edit the `nsteps` parameter in `prod.mdp` to something more manageable, or transfer the files to a computing cluster for faster performance; the following is provided only for reference for how one would continue on to production from the end of our equilibration run)."
   ]
  },
  {
   "cell_type": "code",
   "execution_count": null,
   "id": "91251143",
   "metadata": {},
   "outputs": [],
   "source": [
    "#!gmx grompp -f mdp_files/prod.mdp -c equilibration_3/equil_3.gro -p supercell_2.top -r supercell_solvated_neutral_2.gro -o prod.tpr -maxwarn 2\n",
    "#!gmx mdrun -s prod.tpr -deffnm prod"
   ]
  },
  {
   "cell_type": "code",
   "execution_count": null,
   "id": "dbcefc29",
   "metadata": {},
   "outputs": [],
   "source": []
  }
 ],
 "metadata": {
  "kernelspec": {
   "display_name": "Python [conda env:MIE-x86-3.10] *",
   "language": "python",
   "name": "conda-env-MIE-x86-3.10-py"
  },
  "language_info": {
   "codemirror_mode": {
    "name": "ipython",
    "version": 3
   },
   "file_extension": ".py",
   "mimetype": "text/x-python",
   "name": "python",
   "nbconvert_exporter": "python",
   "pygments_lexer": "ipython3",
   "version": "3.10.9"
  }
 },
 "nbformat": 4,
 "nbformat_minor": 5
}
